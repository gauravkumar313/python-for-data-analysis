{
 "cells": [
  {
   "cell_type": "markdown",
   "metadata": {},
   "source": [
    "# Data Analysis Using Python: A Beginner’s Guide Featuring NYC Open Data  \n",
    "## Part 2: Data Inspection, Cleaning and Wrangling in Python\n",
    "\n",
    "Mark Bauer"
   ]
  },
  {
   "cell_type": "markdown",
   "metadata": {},
   "source": [
    "Table of Contents\n",
    "=================\n",
    "\n",
    "   * Getting Started\n",
    "       \n",
    "       \n",
    "   * 1. Importing Libraries\n",
    "\n",
    "       \n",
    "   * 2. Reading in Data as a pandas Dataframe\n",
    "       \n",
    "   \n",
    "   * 3. Data Inspection\n",
    "       * 3.1 Previewing Data\n",
    "       * 3.2 Calculating Summary Statistics\n",
    "       * 3.3 Identifying Null Values\n",
    "       \n",
    "       \n",
    "   * 4. Data Cleaning & Wrangling\n",
    "       * 4.1 Previewing Column Values\n",
    "       * 4.2 Exploring Distribution of Values\n",
    "       * 4.3 Making a Box Plot\n",
    "       * 4.4 Calculating Interquartile Range (IQR)\n",
    "       * 4.5 Dropping Null Values\n",
    "       * 4.6 Replacing Null Values\n",
    "       \n",
    "       \n",
    "   * 5. Analysis\n",
    "       * 5.1. Timeseries of Year Built\n",
    "       * 5.2. Attempting to Identify the Oldest Building in NYC\n",
    "       \n",
    "       \n",
    "   * 6. Conclusion"
   ]
  },
  {
   "cell_type": "markdown",
   "metadata": {},
   "source": [
    "**Goal:** In this notebook, we will review various ways to to inspect, clean, wrangle, and detect outliers in your data.\n",
    "\n",
    "**Main Library:** [pandas](https://pandas.pydata.org/) is a fast, powerful, flexible and easy to use open source data analysis and manipulation tool, built on top of the Python programming language."
   ]
  },
  {
   "cell_type": "markdown",
   "metadata": {},
   "source": [
    "# Getting Started: Accessing the Building Footprints Dataset"
   ]
  },
  {
   "cell_type": "markdown",
   "metadata": {},
   "source": [
    "## Reading in data as CSV in static form\n",
    "\n",
    "Copy this link address shown below:"
   ]
  },
  {
   "cell_type": "markdown",
   "metadata": {},
   "source": [
    "![building_footprints_csv](images/building-footprints-csv.png)"
   ]
  },
  {
   "cell_type": "markdown",
   "metadata": {},
   "source": [
    "### Dataset Web Page Link: \n",
    "https://data.cityofnewyork.us/Housing-Development/Building-Footprints/nqwf-w8eh\n",
    "\n",
    "### Documentation/Metadata: \n",
    "https://github.com/CityOfNewYork/nyc-geo-metadata/blob/master/Metadata/Metadata_BuildingFootprints.md"
   ]
  },
  {
   "cell_type": "markdown",
   "metadata": {},
   "source": [
    "### Attribute Information:\n",
    "---------------------------------------------\n",
    "| Attribute | Description | Field Type | Sensitive Field (Y/N) | Notes| \n",
    "|------------ | ------------- | -------- | ----------- | ----------|\n",
    "| BASE_BBL | Borough, block, and lot number for the tax lot that the footprint is physically located within. | text | No\n",
    "| MPLUTO_BBL | Borough, block, and lot number to be used for joining the building footprints data to DCP's MapPLUTO data, which aggregates data for condominium buildings using DOF's billing BBL. For non-condominium buildings the billing BBL is the same as the BASE_BBL. For condominium buildings the billing BBL may be the same for multiple buildings on different physical tax lots if they are part of the same billing unit for DOF purposes. | text | No\n",
    "| BIN | Building Identification Number. A number assigned by City Planning and used by Dept. of Buildings to reference information pertaining to an individual building. The first digit is a borough code (1 = Manhattan, 2 = The Bronx, 3 = Brooklyn, 4 = Queens, 5 = Staten Island). The remaining 6 digits are unique for buildings within that borough. In some cases where these 6 digits are all zeros (e.g. 1000000, 2000000, etc.) the BIN is unassigned or unknown. | double | No\n",
    "| NAME | Building name (limited to commonly known names). This field has not been actively maintained since the original creation of this dataset. | text | No\n",
    "| LSTMODDATE | Feature last modified date | date | No\n",
    "| LSTSTATTYPE | Feature last status type (Demolition, Alteration, Geometry, Initialization, Correction, Marked for Construction, Marked For Demolition, Constructed) | text | No\n",
    "| CNSTRCT_YR | The year construction of the building was completed. <br>Originally this column was populated using the Department of Finance Real Property Assessment Database (RPAD). Beginning in 2017 this will be the first year the completed structure is visible in available orthoimagery. Records where this is zero or NULL mean that this information was not available. | double | No\n",
    "| DOITT_ID | Unique identifier assigned by DOITT.  | double | No\n",
    "| HEIGHTROOF | Building Height is calculated as the difference from the building elevation from the Elevation point feature class and the elevation in the interpolated TIN model. This is the height of the roof above the ground elevation, NOT its height above sea level. Records where this is zero or NULL mean that this information was not available. | double | No | The units of measurement are based on the coordinate reference system used, which for all Planimetrics is New York State Plane Coordinates, Long Island East Zone, NAD83, US foot. All measurements in the attribute tables are in US foot. The building height information is updated through our planimetric updates every 4 years. In between those 4-year update cycles, DoITT manually updates building height information from a variety of sources -- (1) Final as-built heights as shown in plan drawings posted on Department of Buildings BIS website (2) EagleView Oblique imagery, direct measurements taken on photogrammetrically controlled aerial imagery (3) Cyclomedia imagery, direct measurements were taken on photogrammetrically controlled terrestrial imagery (for buildings less than 60’ tall, only)\n",
    "| FEAT_CODE | Type of Building. List of values:<br>2100 = Building<br>5100 = Building Under Construction<br>5110 = Garage<br>2110 = Skybridge<br>1001 = Gas Station Canopy<br>1002 = Storage Tank<br>1003 = Placeholder (triangle for permitted bldg)<br>1004 = Auxiliary Structure (non-addressable, not garage)<br>1005 = Temporary Structure (e.g. construction trailer) | long | No\n",
    "| GROUNDELEV | Lowest Elevation at the building ground level. Calculated from LiDAR or photogrammetrically. | double | No | The units of measurement are based on the coordinate reference system used, which for all Planimetrics is New York State Plane Coordinates, Long Island East Zone, NAD83, US foot. All measurements in the attribute tables are in US foot.\n",
    "| GEOM_SOURCE | Indicates the reference source used to add or update the feature. Photogrammetric means the feature was added or updated using photogrammetric stereo-compilation methodology. This is the most accurate update method and should conform to the ASPRS accuracy standards. Other (Manual) means the feature was added or updated by heads-up digitizing from orthophotos or approximated from a plan drawing. These features will be generally be less accurate and may not conform to the ASPRS accuracy standards. | text | No"
   ]
  },
  {
   "cell_type": "markdown",
   "metadata": {},
   "source": [
    "# 1. Importing Libraries"
   ]
  },
  {
   "cell_type": "code",
   "execution_count": 1,
   "metadata": {},
   "outputs": [],
   "source": [
    "# importing libraries\n",
    "import pandas as pd\n",
    "import numpy as np\n",
    "import matplotlib.pyplot as plt\n",
    "import matplotlib\n",
    "from matplotlib.ticker import FuncFormatter\n",
    "import seaborn as sns\n",
    "\n",
    "# to plot matplotlib figures inline on the notebook\n",
    "%matplotlib inline"
   ]
  },
  {
   "cell_type": "code",
   "execution_count": 2,
   "metadata": {},
   "outputs": [
    {
     "name": "stdout",
     "output_type": "stream",
     "text": [
      "Python implementation: CPython\n",
      "Python version       : 3.8.13\n",
      "IPython version      : 8.4.0\n",
      "\n",
      "numpy            : 1.23.1\n",
      "pandas           : 1.4.3\n",
      "matplotlib.pyplot: unknown\n",
      "\n"
     ]
    }
   ],
   "source": [
    "# Printing verions of Python modules and packages with **watermark** \n",
    "\n",
    "%load_ext watermark\n",
    "%watermark -v -p numpy,pandas,matplotlib.pyplot"
   ]
  },
  {
   "cell_type": "markdown",
   "metadata": {},
   "source": [
    "Documention for installing watermark: https://github.com/rasbt/watermark"
   ]
  },
  {
   "cell_type": "markdown",
   "metadata": {},
   "source": [
    "# 2. Reading in Data as a pandas Dataframe"
   ]
  },
  {
   "cell_type": "markdown",
   "metadata": {},
   "source": [
    "If you receive `HTTPError: HTTP Error 404: Not Found`, you need to replace the CSV link. DoITT changes the link path regularly."
   ]
  },
  {
   "cell_type": "code",
   "execution_count": 3,
   "metadata": {},
   "outputs": [
    {
     "data": {
      "text/html": [
       "<div>\n",
       "<style scoped>\n",
       "    .dataframe tbody tr th:only-of-type {\n",
       "        vertical-align: middle;\n",
       "    }\n",
       "\n",
       "    .dataframe tbody tr th {\n",
       "        vertical-align: top;\n",
       "    }\n",
       "\n",
       "    .dataframe thead th {\n",
       "        text-align: right;\n",
       "    }\n",
       "</style>\n",
       "<table border=\"1\" class=\"dataframe\">\n",
       "  <thead>\n",
       "    <tr style=\"text-align: right;\">\n",
       "      <th></th>\n",
       "      <th>the_geom</th>\n",
       "      <th>NAME</th>\n",
       "      <th>BIN</th>\n",
       "      <th>CNSTRCT_YR</th>\n",
       "      <th>LSTMODDATE</th>\n",
       "      <th>LSTSTATYPE</th>\n",
       "      <th>DOITT_ID</th>\n",
       "      <th>HEIGHTROOF</th>\n",
       "      <th>FEAT_CODE</th>\n",
       "      <th>GROUNDELEV</th>\n",
       "      <th>SHAPE_AREA</th>\n",
       "      <th>SHAPE_LEN</th>\n",
       "      <th>BASE_BBL</th>\n",
       "      <th>MPLUTO_BBL</th>\n",
       "      <th>GEOMSOURCE</th>\n",
       "    </tr>\n",
       "  </thead>\n",
       "  <tbody>\n",
       "    <tr>\n",
       "      <th>0</th>\n",
       "      <td>MULTIPOLYGON (((-73.96664570466969 40.62599676...</td>\n",
       "      <td>NaN</td>\n",
       "      <td>3170958</td>\n",
       "      <td>1925.0</td>\n",
       "      <td>08/22/2017 12:00:00 AM</td>\n",
       "      <td>Constructed</td>\n",
       "      <td>96807</td>\n",
       "      <td>29.749853</td>\n",
       "      <td>2100.0</td>\n",
       "      <td>40.0</td>\n",
       "      <td>0</td>\n",
       "      <td>0</td>\n",
       "      <td>3.065220e+09</td>\n",
       "      <td>3.065220e+09</td>\n",
       "      <td>Photogramm</td>\n",
       "    </tr>\n",
       "    <tr>\n",
       "      <th>1</th>\n",
       "      <td>MULTIPOLYGON (((-74.16790202462265 40.63936048...</td>\n",
       "      <td>NaN</td>\n",
       "      <td>5028452</td>\n",
       "      <td>1965.0</td>\n",
       "      <td>08/22/2017 12:00:00 AM</td>\n",
       "      <td>Constructed</td>\n",
       "      <td>326368</td>\n",
       "      <td>22.630000</td>\n",
       "      <td>2100.0</td>\n",
       "      <td>39.0</td>\n",
       "      <td>0</td>\n",
       "      <td>0</td>\n",
       "      <td>5.012640e+09</td>\n",
       "      <td>5.012640e+09</td>\n",
       "      <td>Photogramm</td>\n",
       "    </tr>\n",
       "    <tr>\n",
       "      <th>2</th>\n",
       "      <td>MULTIPOLYGON (((-74.19510813278613 40.55610681...</td>\n",
       "      <td>NaN</td>\n",
       "      <td>5078368</td>\n",
       "      <td>1970.0</td>\n",
       "      <td>08/22/2017 12:00:00 AM</td>\n",
       "      <td>Constructed</td>\n",
       "      <td>746627</td>\n",
       "      <td>35.760000</td>\n",
       "      <td>2100.0</td>\n",
       "      <td>51.0</td>\n",
       "      <td>0</td>\n",
       "      <td>0</td>\n",
       "      <td>5.060190e+09</td>\n",
       "      <td>5.060190e+09</td>\n",
       "      <td>Photogramm</td>\n",
       "    </tr>\n",
       "    <tr>\n",
       "      <th>3</th>\n",
       "      <td>MULTIPOLYGON (((-73.96113466505085 40.57743931...</td>\n",
       "      <td>NaN</td>\n",
       "      <td>3245111</td>\n",
       "      <td>1928.0</td>\n",
       "      <td>08/22/2017 12:00:00 AM</td>\n",
       "      <td>Constructed</td>\n",
       "      <td>786626</td>\n",
       "      <td>37.500000</td>\n",
       "      <td>2100.0</td>\n",
       "      <td>6.0</td>\n",
       "      <td>0</td>\n",
       "      <td>0</td>\n",
       "      <td>3.086910e+09</td>\n",
       "      <td>3.086910e+09</td>\n",
       "      <td>Photogramm</td>\n",
       "    </tr>\n",
       "    <tr>\n",
       "      <th>4</th>\n",
       "      <td>MULTIPOLYGON (((-73.75421559146166 40.75591276...</td>\n",
       "      <td>NaN</td>\n",
       "      <td>4161096</td>\n",
       "      <td>1950.0</td>\n",
       "      <td>08/22/2017 12:00:00 AM</td>\n",
       "      <td>Constructed</td>\n",
       "      <td>746409</td>\n",
       "      <td>18.015113</td>\n",
       "      <td>2100.0</td>\n",
       "      <td>93.0</td>\n",
       "      <td>0</td>\n",
       "      <td>0</td>\n",
       "      <td>4.075020e+09</td>\n",
       "      <td>4.075020e+09</td>\n",
       "      <td>Photogramm</td>\n",
       "    </tr>\n",
       "  </tbody>\n",
       "</table>\n",
       "</div>"
      ],
      "text/plain": [
       "                                            the_geom NAME      BIN  \\\n",
       "0  MULTIPOLYGON (((-73.96664570466969 40.62599676...  NaN  3170958   \n",
       "1  MULTIPOLYGON (((-74.16790202462265 40.63936048...  NaN  5028452   \n",
       "2  MULTIPOLYGON (((-74.19510813278613 40.55610681...  NaN  5078368   \n",
       "3  MULTIPOLYGON (((-73.96113466505085 40.57743931...  NaN  3245111   \n",
       "4  MULTIPOLYGON (((-73.75421559146166 40.75591276...  NaN  4161096   \n",
       "\n",
       "   CNSTRCT_YR              LSTMODDATE   LSTSTATYPE  DOITT_ID  HEIGHTROOF  \\\n",
       "0      1925.0  08/22/2017 12:00:00 AM  Constructed     96807   29.749853   \n",
       "1      1965.0  08/22/2017 12:00:00 AM  Constructed    326368   22.630000   \n",
       "2      1970.0  08/22/2017 12:00:00 AM  Constructed    746627   35.760000   \n",
       "3      1928.0  08/22/2017 12:00:00 AM  Constructed    786626   37.500000   \n",
       "4      1950.0  08/22/2017 12:00:00 AM  Constructed    746409   18.015113   \n",
       "\n",
       "   FEAT_CODE  GROUNDELEV  SHAPE_AREA  SHAPE_LEN      BASE_BBL    MPLUTO_BBL  \\\n",
       "0     2100.0        40.0           0          0  3.065220e+09  3.065220e+09   \n",
       "1     2100.0        39.0           0          0  5.012640e+09  5.012640e+09   \n",
       "2     2100.0        51.0           0          0  5.060190e+09  5.060190e+09   \n",
       "3     2100.0         6.0           0          0  3.086910e+09  3.086910e+09   \n",
       "4     2100.0        93.0           0          0  4.075020e+09  4.075020e+09   \n",
       "\n",
       "   GEOMSOURCE  \n",
       "0  Photogramm  \n",
       "1  Photogramm  \n",
       "2  Photogramm  \n",
       "3  Photogramm  \n",
       "4  Photogramm  "
      ]
     },
     "execution_count": 3,
     "metadata": {},
     "output_type": "execute_result"
    }
   ],
   "source": [
    "# assigning the link of our data (a static csv file) as the name 'url'\n",
    "# reading in our data as a pandas dataframe called building_df\n",
    "url = 'https://data.cityofnewyork.us/api/views/qb5r-6dgf/rows.csv?accessType=DOWNLOAD'\n",
    "building_df = pd.read_csv(url)\n",
    "\n",
    "# preview the data\n",
    "building_df.head()"
   ]
  },
  {
   "cell_type": "markdown",
   "metadata": {},
   "source": [
    "# 3. Data Inspection"
   ]
  },
  {
   "cell_type": "markdown",
   "metadata": {},
   "source": [
    "## 3.1 Previewing Data"
   ]
  },
  {
   "cell_type": "code",
   "execution_count": 4,
   "metadata": {},
   "outputs": [
    {
     "data": {
      "text/html": [
       "<div>\n",
       "<style scoped>\n",
       "    .dataframe tbody tr th:only-of-type {\n",
       "        vertical-align: middle;\n",
       "    }\n",
       "\n",
       "    .dataframe tbody tr th {\n",
       "        vertical-align: top;\n",
       "    }\n",
       "\n",
       "    .dataframe thead th {\n",
       "        text-align: right;\n",
       "    }\n",
       "</style>\n",
       "<table border=\"1\" class=\"dataframe\">\n",
       "  <thead>\n",
       "    <tr style=\"text-align: right;\">\n",
       "      <th></th>\n",
       "      <th>the_geom</th>\n",
       "      <th>NAME</th>\n",
       "      <th>BIN</th>\n",
       "      <th>CNSTRCT_YR</th>\n",
       "      <th>LSTMODDATE</th>\n",
       "      <th>LSTSTATYPE</th>\n",
       "      <th>DOITT_ID</th>\n",
       "      <th>HEIGHTROOF</th>\n",
       "      <th>FEAT_CODE</th>\n",
       "      <th>GROUNDELEV</th>\n",
       "      <th>SHAPE_AREA</th>\n",
       "      <th>SHAPE_LEN</th>\n",
       "      <th>BASE_BBL</th>\n",
       "      <th>MPLUTO_BBL</th>\n",
       "      <th>GEOMSOURCE</th>\n",
       "    </tr>\n",
       "  </thead>\n",
       "  <tbody>\n",
       "    <tr>\n",
       "      <th>0</th>\n",
       "      <td>MULTIPOLYGON (((-73.96664570466969 40.62599676...</td>\n",
       "      <td>NaN</td>\n",
       "      <td>3170958</td>\n",
       "      <td>1925.0</td>\n",
       "      <td>08/22/2017 12:00:00 AM</td>\n",
       "      <td>Constructed</td>\n",
       "      <td>96807</td>\n",
       "      <td>29.749853</td>\n",
       "      <td>2100.0</td>\n",
       "      <td>40.0</td>\n",
       "      <td>0</td>\n",
       "      <td>0</td>\n",
       "      <td>3.065220e+09</td>\n",
       "      <td>3.065220e+09</td>\n",
       "      <td>Photogramm</td>\n",
       "    </tr>\n",
       "    <tr>\n",
       "      <th>1</th>\n",
       "      <td>MULTIPOLYGON (((-74.16790202462265 40.63936048...</td>\n",
       "      <td>NaN</td>\n",
       "      <td>5028452</td>\n",
       "      <td>1965.0</td>\n",
       "      <td>08/22/2017 12:00:00 AM</td>\n",
       "      <td>Constructed</td>\n",
       "      <td>326368</td>\n",
       "      <td>22.630000</td>\n",
       "      <td>2100.0</td>\n",
       "      <td>39.0</td>\n",
       "      <td>0</td>\n",
       "      <td>0</td>\n",
       "      <td>5.012640e+09</td>\n",
       "      <td>5.012640e+09</td>\n",
       "      <td>Photogramm</td>\n",
       "    </tr>\n",
       "    <tr>\n",
       "      <th>2</th>\n",
       "      <td>MULTIPOLYGON (((-74.19510813278613 40.55610681...</td>\n",
       "      <td>NaN</td>\n",
       "      <td>5078368</td>\n",
       "      <td>1970.0</td>\n",
       "      <td>08/22/2017 12:00:00 AM</td>\n",
       "      <td>Constructed</td>\n",
       "      <td>746627</td>\n",
       "      <td>35.760000</td>\n",
       "      <td>2100.0</td>\n",
       "      <td>51.0</td>\n",
       "      <td>0</td>\n",
       "      <td>0</td>\n",
       "      <td>5.060190e+09</td>\n",
       "      <td>5.060190e+09</td>\n",
       "      <td>Photogramm</td>\n",
       "    </tr>\n",
       "    <tr>\n",
       "      <th>3</th>\n",
       "      <td>MULTIPOLYGON (((-73.96113466505085 40.57743931...</td>\n",
       "      <td>NaN</td>\n",
       "      <td>3245111</td>\n",
       "      <td>1928.0</td>\n",
       "      <td>08/22/2017 12:00:00 AM</td>\n",
       "      <td>Constructed</td>\n",
       "      <td>786626</td>\n",
       "      <td>37.500000</td>\n",
       "      <td>2100.0</td>\n",
       "      <td>6.0</td>\n",
       "      <td>0</td>\n",
       "      <td>0</td>\n",
       "      <td>3.086910e+09</td>\n",
       "      <td>3.086910e+09</td>\n",
       "      <td>Photogramm</td>\n",
       "    </tr>\n",
       "    <tr>\n",
       "      <th>4</th>\n",
       "      <td>MULTIPOLYGON (((-73.75421559146166 40.75591276...</td>\n",
       "      <td>NaN</td>\n",
       "      <td>4161096</td>\n",
       "      <td>1950.0</td>\n",
       "      <td>08/22/2017 12:00:00 AM</td>\n",
       "      <td>Constructed</td>\n",
       "      <td>746409</td>\n",
       "      <td>18.015113</td>\n",
       "      <td>2100.0</td>\n",
       "      <td>93.0</td>\n",
       "      <td>0</td>\n",
       "      <td>0</td>\n",
       "      <td>4.075020e+09</td>\n",
       "      <td>4.075020e+09</td>\n",
       "      <td>Photogramm</td>\n",
       "    </tr>\n",
       "  </tbody>\n",
       "</table>\n",
       "</div>"
      ],
      "text/plain": [
       "                                            the_geom NAME      BIN  \\\n",
       "0  MULTIPOLYGON (((-73.96664570466969 40.62599676...  NaN  3170958   \n",
       "1  MULTIPOLYGON (((-74.16790202462265 40.63936048...  NaN  5028452   \n",
       "2  MULTIPOLYGON (((-74.19510813278613 40.55610681...  NaN  5078368   \n",
       "3  MULTIPOLYGON (((-73.96113466505085 40.57743931...  NaN  3245111   \n",
       "4  MULTIPOLYGON (((-73.75421559146166 40.75591276...  NaN  4161096   \n",
       "\n",
       "   CNSTRCT_YR              LSTMODDATE   LSTSTATYPE  DOITT_ID  HEIGHTROOF  \\\n",
       "0      1925.0  08/22/2017 12:00:00 AM  Constructed     96807   29.749853   \n",
       "1      1965.0  08/22/2017 12:00:00 AM  Constructed    326368   22.630000   \n",
       "2      1970.0  08/22/2017 12:00:00 AM  Constructed    746627   35.760000   \n",
       "3      1928.0  08/22/2017 12:00:00 AM  Constructed    786626   37.500000   \n",
       "4      1950.0  08/22/2017 12:00:00 AM  Constructed    746409   18.015113   \n",
       "\n",
       "   FEAT_CODE  GROUNDELEV  SHAPE_AREA  SHAPE_LEN      BASE_BBL    MPLUTO_BBL  \\\n",
       "0     2100.0        40.0           0          0  3.065220e+09  3.065220e+09   \n",
       "1     2100.0        39.0           0          0  5.012640e+09  5.012640e+09   \n",
       "2     2100.0        51.0           0          0  5.060190e+09  5.060190e+09   \n",
       "3     2100.0         6.0           0          0  3.086910e+09  3.086910e+09   \n",
       "4     2100.0        93.0           0          0  4.075020e+09  4.075020e+09   \n",
       "\n",
       "   GEOMSOURCE  \n",
       "0  Photogramm  \n",
       "1  Photogramm  \n",
       "2  Photogramm  \n",
       "3  Photogramm  \n",
       "4  Photogramm  "
      ]
     },
     "execution_count": 4,
     "metadata": {},
     "output_type": "execute_result"
    }
   ],
   "source": [
    "# previewing the first five rows\n",
    "building_df.head()"
   ]
  },
  {
   "cell_type": "code",
   "execution_count": 5,
   "metadata": {},
   "outputs": [
    {
     "data": {
      "text/html": [
       "<div>\n",
       "<style scoped>\n",
       "    .dataframe tbody tr th:only-of-type {\n",
       "        vertical-align: middle;\n",
       "    }\n",
       "\n",
       "    .dataframe tbody tr th {\n",
       "        vertical-align: top;\n",
       "    }\n",
       "\n",
       "    .dataframe thead th {\n",
       "        text-align: right;\n",
       "    }\n",
       "</style>\n",
       "<table border=\"1\" class=\"dataframe\">\n",
       "  <thead>\n",
       "    <tr style=\"text-align: right;\">\n",
       "      <th></th>\n",
       "      <th>the_geom</th>\n",
       "      <th>NAME</th>\n",
       "      <th>BIN</th>\n",
       "      <th>CNSTRCT_YR</th>\n",
       "      <th>LSTMODDATE</th>\n",
       "      <th>LSTSTATYPE</th>\n",
       "      <th>DOITT_ID</th>\n",
       "      <th>HEIGHTROOF</th>\n",
       "      <th>FEAT_CODE</th>\n",
       "      <th>GROUNDELEV</th>\n",
       "      <th>SHAPE_AREA</th>\n",
       "      <th>SHAPE_LEN</th>\n",
       "      <th>BASE_BBL</th>\n",
       "      <th>MPLUTO_BBL</th>\n",
       "      <th>GEOMSOURCE</th>\n",
       "    </tr>\n",
       "  </thead>\n",
       "  <tbody>\n",
       "    <tr>\n",
       "      <th>1084574</th>\n",
       "      <td>MULTIPOLYGON (((-74.15408285600527 40.61843529...</td>\n",
       "      <td>NaN</td>\n",
       "      <td>5170853</td>\n",
       "      <td>1986.0</td>\n",
       "      <td>08/06/2018 12:00:00 AM</td>\n",
       "      <td>Constructed</td>\n",
       "      <td>1285965</td>\n",
       "      <td>25.0</td>\n",
       "      <td>2100.0</td>\n",
       "      <td>35.0</td>\n",
       "      <td>0</td>\n",
       "      <td>0</td>\n",
       "      <td>5.014951e+09</td>\n",
       "      <td>5.014958e+09</td>\n",
       "      <td>Other (Man</td>\n",
       "    </tr>\n",
       "    <tr>\n",
       "      <th>1084575</th>\n",
       "      <td>MULTIPOLYGON (((-74.15413053323984 40.61907034...</td>\n",
       "      <td>NaN</td>\n",
       "      <td>5110805</td>\n",
       "      <td>1986.0</td>\n",
       "      <td>08/06/2018 12:00:00 AM</td>\n",
       "      <td>Constructed</td>\n",
       "      <td>1285973</td>\n",
       "      <td>26.0</td>\n",
       "      <td>2100.0</td>\n",
       "      <td>37.0</td>\n",
       "      <td>0</td>\n",
       "      <td>0</td>\n",
       "      <td>5.014951e+09</td>\n",
       "      <td>5.014958e+09</td>\n",
       "      <td>Other (Man</td>\n",
       "    </tr>\n",
       "    <tr>\n",
       "      <th>1084576</th>\n",
       "      <td>MULTIPOLYGON (((-74.15319319425097 40.61894320...</td>\n",
       "      <td>NaN</td>\n",
       "      <td>5170867</td>\n",
       "      <td>1986.0</td>\n",
       "      <td>08/06/2018 12:00:00 AM</td>\n",
       "      <td>Constructed</td>\n",
       "      <td>1285980</td>\n",
       "      <td>24.0</td>\n",
       "      <td>2100.0</td>\n",
       "      <td>36.0</td>\n",
       "      <td>0</td>\n",
       "      <td>0</td>\n",
       "      <td>5.014951e+09</td>\n",
       "      <td>5.014958e+09</td>\n",
       "      <td>Other (Man</td>\n",
       "    </tr>\n",
       "    <tr>\n",
       "      <th>1084577</th>\n",
       "      <td>MULTIPOLYGON (((-74.15321747767516 40.61931962...</td>\n",
       "      <td>NaN</td>\n",
       "      <td>5170871</td>\n",
       "      <td>1986.0</td>\n",
       "      <td>08/06/2018 12:00:00 AM</td>\n",
       "      <td>Constructed</td>\n",
       "      <td>1285985</td>\n",
       "      <td>25.0</td>\n",
       "      <td>2100.0</td>\n",
       "      <td>36.0</td>\n",
       "      <td>0</td>\n",
       "      <td>0</td>\n",
       "      <td>5.014951e+09</td>\n",
       "      <td>5.014958e+09</td>\n",
       "      <td>Other (Man</td>\n",
       "    </tr>\n",
       "    <tr>\n",
       "      <th>1084578</th>\n",
       "      <td>MULTIPOLYGON (((-74.15269472025933 40.61944964...</td>\n",
       "      <td>NaN</td>\n",
       "      <td>5170878</td>\n",
       "      <td>1986.0</td>\n",
       "      <td>08/06/2018 12:00:00 AM</td>\n",
       "      <td>Constructed</td>\n",
       "      <td>1285990</td>\n",
       "      <td>24.0</td>\n",
       "      <td>2100.0</td>\n",
       "      <td>37.0</td>\n",
       "      <td>0</td>\n",
       "      <td>0</td>\n",
       "      <td>5.014951e+09</td>\n",
       "      <td>5.014958e+09</td>\n",
       "      <td>Other (Man</td>\n",
       "    </tr>\n",
       "  </tbody>\n",
       "</table>\n",
       "</div>"
      ],
      "text/plain": [
       "                                                  the_geom NAME      BIN  \\\n",
       "1084574  MULTIPOLYGON (((-74.15408285600527 40.61843529...  NaN  5170853   \n",
       "1084575  MULTIPOLYGON (((-74.15413053323984 40.61907034...  NaN  5110805   \n",
       "1084576  MULTIPOLYGON (((-74.15319319425097 40.61894320...  NaN  5170867   \n",
       "1084577  MULTIPOLYGON (((-74.15321747767516 40.61931962...  NaN  5170871   \n",
       "1084578  MULTIPOLYGON (((-74.15269472025933 40.61944964...  NaN  5170878   \n",
       "\n",
       "         CNSTRCT_YR              LSTMODDATE   LSTSTATYPE  DOITT_ID  \\\n",
       "1084574      1986.0  08/06/2018 12:00:00 AM  Constructed   1285965   \n",
       "1084575      1986.0  08/06/2018 12:00:00 AM  Constructed   1285973   \n",
       "1084576      1986.0  08/06/2018 12:00:00 AM  Constructed   1285980   \n",
       "1084577      1986.0  08/06/2018 12:00:00 AM  Constructed   1285985   \n",
       "1084578      1986.0  08/06/2018 12:00:00 AM  Constructed   1285990   \n",
       "\n",
       "         HEIGHTROOF  FEAT_CODE  GROUNDELEV  SHAPE_AREA  SHAPE_LEN  \\\n",
       "1084574        25.0     2100.0        35.0           0          0   \n",
       "1084575        26.0     2100.0        37.0           0          0   \n",
       "1084576        24.0     2100.0        36.0           0          0   \n",
       "1084577        25.0     2100.0        36.0           0          0   \n",
       "1084578        24.0     2100.0        37.0           0          0   \n",
       "\n",
       "             BASE_BBL    MPLUTO_BBL  GEOMSOURCE  \n",
       "1084574  5.014951e+09  5.014958e+09  Other (Man  \n",
       "1084575  5.014951e+09  5.014958e+09  Other (Man  \n",
       "1084576  5.014951e+09  5.014958e+09  Other (Man  \n",
       "1084577  5.014951e+09  5.014958e+09  Other (Man  \n",
       "1084578  5.014951e+09  5.014958e+09  Other (Man  "
      ]
     },
     "execution_count": 5,
     "metadata": {},
     "output_type": "execute_result"
    }
   ],
   "source": [
    "# previewing the last five rows\n",
    "building_df.tail()"
   ]
  },
  {
   "cell_type": "code",
   "execution_count": 6,
   "metadata": {},
   "outputs": [
    {
     "data": {
      "text/plain": [
       "(1084579, 15)"
      ]
     },
     "execution_count": 6,
     "metadata": {},
     "output_type": "execute_result"
    }
   ],
   "source": [
    "# printing the shape or dimensions of our dataframe (i.e. rows, columns)\n",
    "building_df.shape"
   ]
  },
  {
   "cell_type": "code",
   "execution_count": 7,
   "metadata": {},
   "outputs": [
    {
     "name": "stdout",
     "output_type": "stream",
     "text": [
      "This dataset has 1,084,579 rows and 15 columns.\n"
     ]
    }
   ],
   "source": [
    "# more readable\n",
    "rows, columns = building_df.shape\n",
    "\n",
    "print('This dataset has {:,} rows and {:,} columns.'.format(rows, columns))"
   ]
  },
  {
   "cell_type": "code",
   "execution_count": 8,
   "metadata": {},
   "outputs": [
    {
     "data": {
      "text/plain": [
       "pandas.core.frame.DataFrame"
      ]
     },
     "execution_count": 8,
     "metadata": {},
     "output_type": "execute_result"
    }
   ],
   "source": [
    "# the object's type\n",
    "type(building_df)"
   ]
  },
  {
   "cell_type": "code",
   "execution_count": 9,
   "metadata": {},
   "outputs": [
    {
     "data": {
      "text/plain": [
       "Index(['the_geom', 'NAME', 'BIN', 'CNSTRCT_YR', 'LSTMODDATE', 'LSTSTATYPE',\n",
       "       'DOITT_ID', 'HEIGHTROOF', 'FEAT_CODE', 'GROUNDELEV', 'SHAPE_AREA',\n",
       "       'SHAPE_LEN', 'BASE_BBL', 'MPLUTO_BBL', 'GEOMSOURCE'],\n",
       "      dtype='object')"
      ]
     },
     "execution_count": 9,
     "metadata": {},
     "output_type": "execute_result"
    }
   ],
   "source": [
    "# printing the columns\n",
    "building_df.columns"
   ]
  },
  {
   "cell_type": "code",
   "execution_count": 10,
   "metadata": {},
   "outputs": [
    {
     "name": "stdout",
     "output_type": "stream",
     "text": [
      "the_geom\n",
      "NAME\n",
      "BIN\n",
      "CNSTRCT_YR\n",
      "LSTMODDATE\n",
      "LSTSTATYPE\n",
      "DOITT_ID\n",
      "HEIGHTROOF\n",
      "FEAT_CODE\n",
      "GROUNDELEV\n",
      "SHAPE_AREA\n",
      "SHAPE_LEN\n",
      "BASE_BBL\n",
      "MPLUTO_BBL\n",
      "GEOMSOURCE\n"
     ]
    }
   ],
   "source": [
    "# printing the columns of our dataframe in new line\n",
    "for col in building_df.columns:\n",
    "    print(col)"
   ]
  },
  {
   "cell_type": "code",
   "execution_count": 11,
   "metadata": {},
   "outputs": [
    {
     "data": {
      "text/plain": [
       "the_geom       object\n",
       "NAME           object\n",
       "BIN             int64\n",
       "CNSTRCT_YR    float64\n",
       "LSTMODDATE     object\n",
       "LSTSTATYPE     object\n",
       "DOITT_ID        int64\n",
       "HEIGHTROOF    float64\n",
       "FEAT_CODE     float64\n",
       "GROUNDELEV    float64\n",
       "SHAPE_AREA      int64\n",
       "SHAPE_LEN       int64\n",
       "BASE_BBL      float64\n",
       "MPLUTO_BBL    float64\n",
       "GEOMSOURCE     object\n",
       "dtype: object"
      ]
     },
     "execution_count": 11,
     "metadata": {},
     "output_type": "execute_result"
    }
   ],
   "source": [
    "# printing the data types of our columns\n",
    "building_df.dtypes"
   ]
  },
  {
   "cell_type": "code",
   "execution_count": 12,
   "metadata": {},
   "outputs": [
    {
     "name": "stdout",
     "output_type": "stream",
     "text": [
      "<class 'pandas.core.frame.DataFrame'>\n",
      "RangeIndex: 1084579 entries, 0 to 1084578\n",
      "Data columns (total 15 columns):\n",
      " #   Column      Non-Null Count    Dtype  \n",
      "---  ------      --------------    -----  \n",
      " 0   the_geom    1084579 non-null  object \n",
      " 1   NAME        1937 non-null     object \n",
      " 2   BIN         1084579 non-null  int64  \n",
      " 3   CNSTRCT_YR  1073752 non-null  float64\n",
      " 4   LSTMODDATE  1084579 non-null  object \n",
      " 5   LSTSTATYPE  1084321 non-null  object \n",
      " 6   DOITT_ID    1084579 non-null  int64  \n",
      " 7   HEIGHTROOF  1081895 non-null  float64\n",
      " 8   FEAT_CODE   1084572 non-null  float64\n",
      " 9   GROUNDELEV  1084032 non-null  float64\n",
      " 10  SHAPE_AREA  1084579 non-null  int64  \n",
      " 11  SHAPE_LEN   1084579 non-null  int64  \n",
      " 12  BASE_BBL    1084575 non-null  float64\n",
      " 13  MPLUTO_BBL  1081868 non-null  float64\n",
      " 14  GEOMSOURCE  1084345 non-null  object \n",
      "dtypes: float64(6), int64(4), object(5)\n",
      "memory usage: 124.1+ MB\n"
     ]
    }
   ],
   "source": [
    "# printing the column names, non-null counts,\n",
    "# and datatypes of our columns\n",
    "building_df.info()"
   ]
  },
  {
   "cell_type": "code",
   "execution_count": 13,
   "metadata": {},
   "outputs": [
    {
     "data": {
      "text/plain": [
       "float64    6\n",
       "object     5\n",
       "int64      4\n",
       "dtype: int64"
      ]
     },
     "execution_count": 13,
     "metadata": {},
     "output_type": "execute_result"
    }
   ],
   "source": [
    "# counts of values of our datatypes \n",
    "building_df.dtypes.value_counts()"
   ]
  },
  {
   "cell_type": "code",
   "execution_count": 14,
   "metadata": {},
   "outputs": [
    {
     "data": {
      "text/plain": [
       "RangeIndex(start=0, stop=1084579, step=1)"
      ]
     },
     "execution_count": 14,
     "metadata": {},
     "output_type": "execute_result"
    }
   ],
   "source": [
    "# printing index type\n",
    "building_df.index"
   ]
  },
  {
   "cell_type": "code",
   "execution_count": 15,
   "metadata": {},
   "outputs": [
    {
     "name": "stdout",
     "output_type": "stream",
     "text": [
      "our unique id is truly unique: False\n"
     ]
    }
   ],
   "source": [
    "# printing True/False if column is unique on our unique key (DOITT_ID)\n",
    "unique = building_df['DOITT_ID'].is_unique\n",
    "\n",
    "print('our unique id is truly unique: {}'.format(unique))"
   ]
  },
  {
   "cell_type": "code",
   "execution_count": 16,
   "metadata": {},
   "outputs": [
    {
     "data": {
      "text/html": [
       "<div>\n",
       "<style scoped>\n",
       "    .dataframe tbody tr th:only-of-type {\n",
       "        vertical-align: middle;\n",
       "    }\n",
       "\n",
       "    .dataframe tbody tr th {\n",
       "        vertical-align: top;\n",
       "    }\n",
       "\n",
       "    .dataframe thead th {\n",
       "        text-align: right;\n",
       "    }\n",
       "</style>\n",
       "<table border=\"1\" class=\"dataframe\">\n",
       "  <thead>\n",
       "    <tr style=\"text-align: right;\">\n",
       "      <th></th>\n",
       "      <th>0</th>\n",
       "      <th>1</th>\n",
       "      <th>2</th>\n",
       "      <th>3</th>\n",
       "      <th>4</th>\n",
       "    </tr>\n",
       "  </thead>\n",
       "  <tbody>\n",
       "    <tr>\n",
       "      <th>the_geom</th>\n",
       "      <td>MULTIPOLYGON (((-73.96664570466969 40.62599676...</td>\n",
       "      <td>MULTIPOLYGON (((-74.16790202462265 40.63936048...</td>\n",
       "      <td>MULTIPOLYGON (((-74.19510813278613 40.55610681...</td>\n",
       "      <td>MULTIPOLYGON (((-73.96113466505085 40.57743931...</td>\n",
       "      <td>MULTIPOLYGON (((-73.75421559146166 40.75591276...</td>\n",
       "    </tr>\n",
       "    <tr>\n",
       "      <th>NAME</th>\n",
       "      <td>NaN</td>\n",
       "      <td>NaN</td>\n",
       "      <td>NaN</td>\n",
       "      <td>NaN</td>\n",
       "      <td>NaN</td>\n",
       "    </tr>\n",
       "    <tr>\n",
       "      <th>BIN</th>\n",
       "      <td>3170958</td>\n",
       "      <td>5028452</td>\n",
       "      <td>5078368</td>\n",
       "      <td>3245111</td>\n",
       "      <td>4161096</td>\n",
       "    </tr>\n",
       "    <tr>\n",
       "      <th>CNSTRCT_YR</th>\n",
       "      <td>1925.0</td>\n",
       "      <td>1965.0</td>\n",
       "      <td>1970.0</td>\n",
       "      <td>1928.0</td>\n",
       "      <td>1950.0</td>\n",
       "    </tr>\n",
       "    <tr>\n",
       "      <th>LSTMODDATE</th>\n",
       "      <td>08/22/2017 12:00:00 AM</td>\n",
       "      <td>08/22/2017 12:00:00 AM</td>\n",
       "      <td>08/22/2017 12:00:00 AM</td>\n",
       "      <td>08/22/2017 12:00:00 AM</td>\n",
       "      <td>08/22/2017 12:00:00 AM</td>\n",
       "    </tr>\n",
       "    <tr>\n",
       "      <th>LSTSTATYPE</th>\n",
       "      <td>Constructed</td>\n",
       "      <td>Constructed</td>\n",
       "      <td>Constructed</td>\n",
       "      <td>Constructed</td>\n",
       "      <td>Constructed</td>\n",
       "    </tr>\n",
       "    <tr>\n",
       "      <th>DOITT_ID</th>\n",
       "      <td>96807</td>\n",
       "      <td>326368</td>\n",
       "      <td>746627</td>\n",
       "      <td>786626</td>\n",
       "      <td>746409</td>\n",
       "    </tr>\n",
       "    <tr>\n",
       "      <th>HEIGHTROOF</th>\n",
       "      <td>29.749853</td>\n",
       "      <td>22.63</td>\n",
       "      <td>35.76</td>\n",
       "      <td>37.5</td>\n",
       "      <td>18.015113</td>\n",
       "    </tr>\n",
       "    <tr>\n",
       "      <th>FEAT_CODE</th>\n",
       "      <td>2100.0</td>\n",
       "      <td>2100.0</td>\n",
       "      <td>2100.0</td>\n",
       "      <td>2100.0</td>\n",
       "      <td>2100.0</td>\n",
       "    </tr>\n",
       "    <tr>\n",
       "      <th>GROUNDELEV</th>\n",
       "      <td>40.0</td>\n",
       "      <td>39.0</td>\n",
       "      <td>51.0</td>\n",
       "      <td>6.0</td>\n",
       "      <td>93.0</td>\n",
       "    </tr>\n",
       "    <tr>\n",
       "      <th>SHAPE_AREA</th>\n",
       "      <td>0</td>\n",
       "      <td>0</td>\n",
       "      <td>0</td>\n",
       "      <td>0</td>\n",
       "      <td>0</td>\n",
       "    </tr>\n",
       "    <tr>\n",
       "      <th>SHAPE_LEN</th>\n",
       "      <td>0</td>\n",
       "      <td>0</td>\n",
       "      <td>0</td>\n",
       "      <td>0</td>\n",
       "      <td>0</td>\n",
       "    </tr>\n",
       "    <tr>\n",
       "      <th>BASE_BBL</th>\n",
       "      <td>3065220021.0</td>\n",
       "      <td>5012640036.0</td>\n",
       "      <td>5060190091.0</td>\n",
       "      <td>3086910048.0</td>\n",
       "      <td>4075020005.0</td>\n",
       "    </tr>\n",
       "    <tr>\n",
       "      <th>MPLUTO_BBL</th>\n",
       "      <td>3065220021.0</td>\n",
       "      <td>5012640036.0</td>\n",
       "      <td>5060190091.0</td>\n",
       "      <td>3086910048.0</td>\n",
       "      <td>4075020005.0</td>\n",
       "    </tr>\n",
       "    <tr>\n",
       "      <th>GEOMSOURCE</th>\n",
       "      <td>Photogramm</td>\n",
       "      <td>Photogramm</td>\n",
       "      <td>Photogramm</td>\n",
       "      <td>Photogramm</td>\n",
       "      <td>Photogramm</td>\n",
       "    </tr>\n",
       "  </tbody>\n",
       "</table>\n",
       "</div>"
      ],
      "text/plain": [
       "                                                            0  \\\n",
       "the_geom    MULTIPOLYGON (((-73.96664570466969 40.62599676...   \n",
       "NAME                                                      NaN   \n",
       "BIN                                                   3170958   \n",
       "CNSTRCT_YR                                             1925.0   \n",
       "LSTMODDATE                             08/22/2017 12:00:00 AM   \n",
       "LSTSTATYPE                                        Constructed   \n",
       "DOITT_ID                                                96807   \n",
       "HEIGHTROOF                                          29.749853   \n",
       "FEAT_CODE                                              2100.0   \n",
       "GROUNDELEV                                               40.0   \n",
       "SHAPE_AREA                                                  0   \n",
       "SHAPE_LEN                                                   0   \n",
       "BASE_BBL                                         3065220021.0   \n",
       "MPLUTO_BBL                                       3065220021.0   \n",
       "GEOMSOURCE                                         Photogramm   \n",
       "\n",
       "                                                            1  \\\n",
       "the_geom    MULTIPOLYGON (((-74.16790202462265 40.63936048...   \n",
       "NAME                                                      NaN   \n",
       "BIN                                                   5028452   \n",
       "CNSTRCT_YR                                             1965.0   \n",
       "LSTMODDATE                             08/22/2017 12:00:00 AM   \n",
       "LSTSTATYPE                                        Constructed   \n",
       "DOITT_ID                                               326368   \n",
       "HEIGHTROOF                                              22.63   \n",
       "FEAT_CODE                                              2100.0   \n",
       "GROUNDELEV                                               39.0   \n",
       "SHAPE_AREA                                                  0   \n",
       "SHAPE_LEN                                                   0   \n",
       "BASE_BBL                                         5012640036.0   \n",
       "MPLUTO_BBL                                       5012640036.0   \n",
       "GEOMSOURCE                                         Photogramm   \n",
       "\n",
       "                                                            2  \\\n",
       "the_geom    MULTIPOLYGON (((-74.19510813278613 40.55610681...   \n",
       "NAME                                                      NaN   \n",
       "BIN                                                   5078368   \n",
       "CNSTRCT_YR                                             1970.0   \n",
       "LSTMODDATE                             08/22/2017 12:00:00 AM   \n",
       "LSTSTATYPE                                        Constructed   \n",
       "DOITT_ID                                               746627   \n",
       "HEIGHTROOF                                              35.76   \n",
       "FEAT_CODE                                              2100.0   \n",
       "GROUNDELEV                                               51.0   \n",
       "SHAPE_AREA                                                  0   \n",
       "SHAPE_LEN                                                   0   \n",
       "BASE_BBL                                         5060190091.0   \n",
       "MPLUTO_BBL                                       5060190091.0   \n",
       "GEOMSOURCE                                         Photogramm   \n",
       "\n",
       "                                                            3  \\\n",
       "the_geom    MULTIPOLYGON (((-73.96113466505085 40.57743931...   \n",
       "NAME                                                      NaN   \n",
       "BIN                                                   3245111   \n",
       "CNSTRCT_YR                                             1928.0   \n",
       "LSTMODDATE                             08/22/2017 12:00:00 AM   \n",
       "LSTSTATYPE                                        Constructed   \n",
       "DOITT_ID                                               786626   \n",
       "HEIGHTROOF                                               37.5   \n",
       "FEAT_CODE                                              2100.0   \n",
       "GROUNDELEV                                                6.0   \n",
       "SHAPE_AREA                                                  0   \n",
       "SHAPE_LEN                                                   0   \n",
       "BASE_BBL                                         3086910048.0   \n",
       "MPLUTO_BBL                                       3086910048.0   \n",
       "GEOMSOURCE                                         Photogramm   \n",
       "\n",
       "                                                            4  \n",
       "the_geom    MULTIPOLYGON (((-73.75421559146166 40.75591276...  \n",
       "NAME                                                      NaN  \n",
       "BIN                                                   4161096  \n",
       "CNSTRCT_YR                                             1950.0  \n",
       "LSTMODDATE                             08/22/2017 12:00:00 AM  \n",
       "LSTSTATYPE                                        Constructed  \n",
       "DOITT_ID                                               746409  \n",
       "HEIGHTROOF                                          18.015113  \n",
       "FEAT_CODE                                              2100.0  \n",
       "GROUNDELEV                                               93.0  \n",
       "SHAPE_AREA                                                  0  \n",
       "SHAPE_LEN                                                   0  \n",
       "BASE_BBL                                         4075020005.0  \n",
       "MPLUTO_BBL                                       4075020005.0  \n",
       "GEOMSOURCE                                         Photogramm  "
      ]
     },
     "execution_count": 16,
     "metadata": {},
     "output_type": "execute_result"
    }
   ],
   "source": [
    "# transpose index and columns of first five rows\n",
    "building_df.head().T"
   ]
  },
  {
   "cell_type": "markdown",
   "metadata": {},
   "source": [
    "## 3.2 Calculating Summary Statistics"
   ]
  },
  {
   "cell_type": "code",
   "execution_count": 17,
   "metadata": {
    "scrolled": true
   },
   "outputs": [
    {
     "data": {
      "text/html": [
       "<div>\n",
       "<style scoped>\n",
       "    .dataframe tbody tr th:only-of-type {\n",
       "        vertical-align: middle;\n",
       "    }\n",
       "\n",
       "    .dataframe tbody tr th {\n",
       "        vertical-align: top;\n",
       "    }\n",
       "\n",
       "    .dataframe thead th {\n",
       "        text-align: right;\n",
       "    }\n",
       "</style>\n",
       "<table border=\"1\" class=\"dataframe\">\n",
       "  <thead>\n",
       "    <tr style=\"text-align: right;\">\n",
       "      <th></th>\n",
       "      <th>BIN</th>\n",
       "      <th>CNSTRCT_YR</th>\n",
       "      <th>DOITT_ID</th>\n",
       "      <th>HEIGHTROOF</th>\n",
       "      <th>FEAT_CODE</th>\n",
       "      <th>GROUNDELEV</th>\n",
       "      <th>SHAPE_AREA</th>\n",
       "      <th>SHAPE_LEN</th>\n",
       "      <th>BASE_BBL</th>\n",
       "      <th>MPLUTO_BBL</th>\n",
       "    </tr>\n",
       "  </thead>\n",
       "  <tbody>\n",
       "    <tr>\n",
       "      <th>count</th>\n",
       "      <td>1.084579e+06</td>\n",
       "      <td>1.073752e+06</td>\n",
       "      <td>1.084579e+06</td>\n",
       "      <td>1.081895e+06</td>\n",
       "      <td>1.084572e+06</td>\n",
       "      <td>1.084032e+06</td>\n",
       "      <td>1084579.0</td>\n",
       "      <td>1084579.0</td>\n",
       "      <td>1.084575e+06</td>\n",
       "      <td>1.081868e+06</td>\n",
       "    </tr>\n",
       "    <tr>\n",
       "      <th>mean</th>\n",
       "      <td>3.711580e+06</td>\n",
       "      <td>1.939330e+03</td>\n",
       "      <td>5.930551e+05</td>\n",
       "      <td>2.761217e+01</td>\n",
       "      <td>2.697230e+03</td>\n",
       "      <td>5.510150e+01</td>\n",
       "      <td>0.0</td>\n",
       "      <td>0.0</td>\n",
       "      <td>3.562996e+09</td>\n",
       "      <td>3.562587e+09</td>\n",
       "    </tr>\n",
       "    <tr>\n",
       "      <th>std</th>\n",
       "      <td>1.026837e+06</td>\n",
       "      <td>2.914270e+01</td>\n",
       "      <td>3.608023e+05</td>\n",
       "      <td>2.154364e+01</td>\n",
       "      <td>1.201382e+03</td>\n",
       "      <td>4.152162e+01</td>\n",
       "      <td>0.0</td>\n",
       "      <td>0.0</td>\n",
       "      <td>9.861452e+08</td>\n",
       "      <td>9.857237e+08</td>\n",
       "    </tr>\n",
       "    <tr>\n",
       "      <th>min</th>\n",
       "      <td>1.000002e+06</td>\n",
       "      <td>1.652000e+03</td>\n",
       "      <td>1.000000e+00</td>\n",
       "      <td>0.000000e+00</td>\n",
       "      <td>0.000000e+00</td>\n",
       "      <td>-1.600000e+01</td>\n",
       "      <td>0.0</td>\n",
       "      <td>0.0</td>\n",
       "      <td>1.090961e+06</td>\n",
       "      <td>3.064269e+06</td>\n",
       "    </tr>\n",
       "    <tr>\n",
       "      <th>25%</th>\n",
       "      <td>3.129120e+06</td>\n",
       "      <td>1.920000e+03</td>\n",
       "      <td>2.874075e+05</td>\n",
       "      <td>1.841000e+01</td>\n",
       "      <td>2.100000e+03</td>\n",
       "      <td>2.500000e+01</td>\n",
       "      <td>0.0</td>\n",
       "      <td>0.0</td>\n",
       "      <td>3.043260e+09</td>\n",
       "      <td>3.043270e+09</td>\n",
       "    </tr>\n",
       "    <tr>\n",
       "      <th>50%</th>\n",
       "      <td>4.067369e+06</td>\n",
       "      <td>1.930000e+03</td>\n",
       "      <td>5.749590e+05</td>\n",
       "      <td>2.610000e+01</td>\n",
       "      <td>2.100000e+03</td>\n",
       "      <td>4.600000e+01</td>\n",
       "      <td>0.0</td>\n",
       "      <td>0.0</td>\n",
       "      <td>4.019430e+09</td>\n",
       "      <td>4.019400e+09</td>\n",
       "    </tr>\n",
       "    <tr>\n",
       "      <th>75%</th>\n",
       "      <td>4.482780e+06</td>\n",
       "      <td>1.955000e+03</td>\n",
       "      <td>8.642395e+05</td>\n",
       "      <td>3.110000e+01</td>\n",
       "      <td>2.100000e+03</td>\n",
       "      <td>7.400000e+01</td>\n",
       "      <td>0.0</td>\n",
       "      <td>0.0</td>\n",
       "      <td>4.106860e+09</td>\n",
       "      <td>4.106730e+09</td>\n",
       "    </tr>\n",
       "    <tr>\n",
       "      <th>max</th>\n",
       "      <td>5.799523e+06</td>\n",
       "      <td>2.022000e+03</td>\n",
       "      <td>1.297550e+06</td>\n",
       "      <td>1.550000e+03</td>\n",
       "      <td>5.110000e+03</td>\n",
       "      <td>5.560000e+02</td>\n",
       "      <td>0.0</td>\n",
       "      <td>0.0</td>\n",
       "      <td>6.000000e+09</td>\n",
       "      <td>6.000000e+09</td>\n",
       "    </tr>\n",
       "  </tbody>\n",
       "</table>\n",
       "</div>"
      ],
      "text/plain": [
       "                BIN    CNSTRCT_YR      DOITT_ID    HEIGHTROOF     FEAT_CODE  \\\n",
       "count  1.084579e+06  1.073752e+06  1.084579e+06  1.081895e+06  1.084572e+06   \n",
       "mean   3.711580e+06  1.939330e+03  5.930551e+05  2.761217e+01  2.697230e+03   \n",
       "std    1.026837e+06  2.914270e+01  3.608023e+05  2.154364e+01  1.201382e+03   \n",
       "min    1.000002e+06  1.652000e+03  1.000000e+00  0.000000e+00  0.000000e+00   \n",
       "25%    3.129120e+06  1.920000e+03  2.874075e+05  1.841000e+01  2.100000e+03   \n",
       "50%    4.067369e+06  1.930000e+03  5.749590e+05  2.610000e+01  2.100000e+03   \n",
       "75%    4.482780e+06  1.955000e+03  8.642395e+05  3.110000e+01  2.100000e+03   \n",
       "max    5.799523e+06  2.022000e+03  1.297550e+06  1.550000e+03  5.110000e+03   \n",
       "\n",
       "         GROUNDELEV  SHAPE_AREA  SHAPE_LEN      BASE_BBL    MPLUTO_BBL  \n",
       "count  1.084032e+06   1084579.0  1084579.0  1.084575e+06  1.081868e+06  \n",
       "mean   5.510150e+01         0.0        0.0  3.562996e+09  3.562587e+09  \n",
       "std    4.152162e+01         0.0        0.0  9.861452e+08  9.857237e+08  \n",
       "min   -1.600000e+01         0.0        0.0  1.090961e+06  3.064269e+06  \n",
       "25%    2.500000e+01         0.0        0.0  3.043260e+09  3.043270e+09  \n",
       "50%    4.600000e+01         0.0        0.0  4.019430e+09  4.019400e+09  \n",
       "75%    7.400000e+01         0.0        0.0  4.106860e+09  4.106730e+09  \n",
       "max    5.560000e+02         0.0        0.0  6.000000e+09  6.000000e+09  "
      ]
     },
     "execution_count": 17,
     "metadata": {},
     "output_type": "execute_result"
    }
   ],
   "source": [
    "# printing descriptive statistics of our numeric columns\n",
    "building_df.describe()"
   ]
  },
  {
   "cell_type": "code",
   "execution_count": 18,
   "metadata": {},
   "outputs": [
    {
     "data": {
      "text/html": [
       "<div>\n",
       "<style scoped>\n",
       "    .dataframe tbody tr th:only-of-type {\n",
       "        vertical-align: middle;\n",
       "    }\n",
       "\n",
       "    .dataframe tbody tr th {\n",
       "        vertical-align: top;\n",
       "    }\n",
       "\n",
       "    .dataframe thead th {\n",
       "        text-align: right;\n",
       "    }\n",
       "</style>\n",
       "<table border=\"1\" class=\"dataframe\">\n",
       "  <thead>\n",
       "    <tr style=\"text-align: right;\">\n",
       "      <th></th>\n",
       "      <th>the_geom</th>\n",
       "      <th>NAME</th>\n",
       "      <th>LSTMODDATE</th>\n",
       "      <th>LSTSTATYPE</th>\n",
       "      <th>GEOMSOURCE</th>\n",
       "    </tr>\n",
       "  </thead>\n",
       "  <tbody>\n",
       "    <tr>\n",
       "      <th>count</th>\n",
       "      <td>1084579</td>\n",
       "      <td>1937</td>\n",
       "      <td>1084579</td>\n",
       "      <td>1084321</td>\n",
       "      <td>1084345</td>\n",
       "    </tr>\n",
       "    <tr>\n",
       "      <th>unique</th>\n",
       "      <td>1084579</td>\n",
       "      <td>1564</td>\n",
       "      <td>1386</td>\n",
       "      <td>12</td>\n",
       "      <td>3</td>\n",
       "    </tr>\n",
       "    <tr>\n",
       "      <th>top</th>\n",
       "      <td>MULTIPOLYGON (((-73.96664570466969 40.62599676...</td>\n",
       "      <td>Adler Place Town Houses</td>\n",
       "      <td>08/22/2017 12:00:00 AM</td>\n",
       "      <td>Constructed</td>\n",
       "      <td>Photogramm</td>\n",
       "    </tr>\n",
       "    <tr>\n",
       "      <th>freq</th>\n",
       "      <td>1</td>\n",
       "      <td>52</td>\n",
       "      <td>804442</td>\n",
       "      <td>1082202</td>\n",
       "      <td>1016451</td>\n",
       "    </tr>\n",
       "  </tbody>\n",
       "</table>\n",
       "</div>"
      ],
      "text/plain": [
       "                                                 the_geom  \\\n",
       "count                                             1084579   \n",
       "unique                                            1084579   \n",
       "top     MULTIPOLYGON (((-73.96664570466969 40.62599676...   \n",
       "freq                                                    1   \n",
       "\n",
       "                           NAME              LSTMODDATE   LSTSTATYPE  \\\n",
       "count                      1937                 1084579      1084321   \n",
       "unique                     1564                    1386           12   \n",
       "top     Adler Place Town Houses  08/22/2017 12:00:00 AM  Constructed   \n",
       "freq                         52                  804442      1082202   \n",
       "\n",
       "        GEOMSOURCE  \n",
       "count      1084345  \n",
       "unique           3  \n",
       "top     Photogramm  \n",
       "freq       1016451  "
      ]
     },
     "execution_count": 18,
     "metadata": {},
     "output_type": "execute_result"
    }
   ],
   "source": [
    "# printing descriptive statistics of our non-numeric columns\n",
    "building_df.describe(include=['O'])"
   ]
  },
  {
   "cell_type": "code",
   "execution_count": 19,
   "metadata": {},
   "outputs": [
    {
     "data": {
      "text/html": [
       "<div>\n",
       "<style scoped>\n",
       "    .dataframe tbody tr th:only-of-type {\n",
       "        vertical-align: middle;\n",
       "    }\n",
       "\n",
       "    .dataframe tbody tr th {\n",
       "        vertical-align: top;\n",
       "    }\n",
       "\n",
       "    .dataframe thead th {\n",
       "        text-align: right;\n",
       "    }\n",
       "</style>\n",
       "<table border=\"1\" class=\"dataframe\">\n",
       "  <thead>\n",
       "    <tr style=\"text-align: right;\">\n",
       "      <th></th>\n",
       "      <th>BIN</th>\n",
       "      <th>CNSTRCT_YR</th>\n",
       "      <th>HEIGHTROOF</th>\n",
       "      <th>FEAT_CODE</th>\n",
       "      <th>GROUNDELEV</th>\n",
       "      <th>SHAPE_AREA</th>\n",
       "      <th>SHAPE_LEN</th>\n",
       "      <th>BASE_BBL</th>\n",
       "      <th>MPLUTO_BBL</th>\n",
       "    </tr>\n",
       "  </thead>\n",
       "  <tbody>\n",
       "    <tr>\n",
       "      <th>mode</th>\n",
       "      <td>3000000</td>\n",
       "      <td>1920.0</td>\n",
       "      <td>30.0</td>\n",
       "      <td>2100.0</td>\n",
       "      <td>10.0</td>\n",
       "      <td>0</td>\n",
       "      <td>0</td>\n",
       "      <td>4.163500e+09</td>\n",
       "      <td>4.163500e+09</td>\n",
       "    </tr>\n",
       "  </tbody>\n",
       "</table>\n",
       "</div>"
      ],
      "text/plain": [
       "          BIN  CNSTRCT_YR  HEIGHTROOF  FEAT_CODE  GROUNDELEV  SHAPE_AREA  \\\n",
       "mode  3000000      1920.0        30.0     2100.0        10.0           0   \n",
       "\n",
       "      SHAPE_LEN      BASE_BBL    MPLUTO_BBL  \n",
       "mode          0  4.163500e+09  4.163500e+09  "
      ]
     },
     "execution_count": 19,
     "metadata": {},
     "output_type": "execute_result"
    }
   ],
   "source": [
    "# returning the mode of our numeric columns (excluding our unique key = 'DOITT_ID')\n",
    "mode_df = building_df.drop(columns=['DOITT_ID'])\n",
    "\n",
    "# getting the mode of each numeric column\n",
    "mode = mode_df.mode(numeric_only=True)\n",
    "\n",
    "# renaming index to 'mode'\n",
    "mode = mode.rename(index={0: \"mode\"})\n",
    "\n",
    "mode"
   ]
  },
  {
   "cell_type": "code",
   "execution_count": 20,
   "metadata": {},
   "outputs": [
    {
     "data": {
      "text/html": [
       "<div>\n",
       "<style scoped>\n",
       "    .dataframe tbody tr th:only-of-type {\n",
       "        vertical-align: middle;\n",
       "    }\n",
       "\n",
       "    .dataframe tbody tr th {\n",
       "        vertical-align: top;\n",
       "    }\n",
       "\n",
       "    .dataframe thead th {\n",
       "        text-align: right;\n",
       "    }\n",
       "</style>\n",
       "<table border=\"1\" class=\"dataframe\">\n",
       "  <thead>\n",
       "    <tr style=\"text-align: right;\">\n",
       "      <th></th>\n",
       "      <th>BIN</th>\n",
       "      <th>CNSTRCT_YR</th>\n",
       "      <th>DOITT_ID</th>\n",
       "      <th>HEIGHTROOF</th>\n",
       "      <th>FEAT_CODE</th>\n",
       "      <th>GROUNDELEV</th>\n",
       "      <th>SHAPE_AREA</th>\n",
       "      <th>SHAPE_LEN</th>\n",
       "      <th>BASE_BBL</th>\n",
       "      <th>MPLUTO_BBL</th>\n",
       "    </tr>\n",
       "  </thead>\n",
       "  <tbody>\n",
       "    <tr>\n",
       "      <th>BIN</th>\n",
       "      <td>1.000000</td>\n",
       "      <td>0.293091</td>\n",
       "      <td>0.156252</td>\n",
       "      <td>-0.358951</td>\n",
       "      <td>0.190366</td>\n",
       "      <td>0.086760</td>\n",
       "      <td>NaN</td>\n",
       "      <td>NaN</td>\n",
       "      <td>0.988555</td>\n",
       "      <td>0.988693</td>\n",
       "    </tr>\n",
       "    <tr>\n",
       "      <th>CNSTRCT_YR</th>\n",
       "      <td>0.293091</td>\n",
       "      <td>1.000000</td>\n",
       "      <td>0.189700</td>\n",
       "      <td>0.015941</td>\n",
       "      <td>-0.131369</td>\n",
       "      <td>-0.002766</td>\n",
       "      <td>NaN</td>\n",
       "      <td>NaN</td>\n",
       "      <td>0.287740</td>\n",
       "      <td>0.289493</td>\n",
       "    </tr>\n",
       "    <tr>\n",
       "      <th>DOITT_ID</th>\n",
       "      <td>0.156252</td>\n",
       "      <td>0.189700</td>\n",
       "      <td>1.000000</td>\n",
       "      <td>-0.169200</td>\n",
       "      <td>0.546314</td>\n",
       "      <td>-0.017089</td>\n",
       "      <td>NaN</td>\n",
       "      <td>NaN</td>\n",
       "      <td>0.075784</td>\n",
       "      <td>0.075447</td>\n",
       "    </tr>\n",
       "    <tr>\n",
       "      <th>HEIGHTROOF</th>\n",
       "      <td>-0.358951</td>\n",
       "      <td>0.015941</td>\n",
       "      <td>-0.169200</td>\n",
       "      <td>1.000000</td>\n",
       "      <td>-0.362731</td>\n",
       "      <td>-0.001677</td>\n",
       "      <td>NaN</td>\n",
       "      <td>NaN</td>\n",
       "      <td>-0.328772</td>\n",
       "      <td>-0.329597</td>\n",
       "    </tr>\n",
       "    <tr>\n",
       "      <th>FEAT_CODE</th>\n",
       "      <td>0.190366</td>\n",
       "      <td>-0.131369</td>\n",
       "      <td>0.546314</td>\n",
       "      <td>-0.362731</td>\n",
       "      <td>1.000000</td>\n",
       "      <td>0.001300</td>\n",
       "      <td>NaN</td>\n",
       "      <td>NaN</td>\n",
       "      <td>0.089522</td>\n",
       "      <td>0.089726</td>\n",
       "    </tr>\n",
       "    <tr>\n",
       "      <th>GROUNDELEV</th>\n",
       "      <td>0.086760</td>\n",
       "      <td>-0.002766</td>\n",
       "      <td>-0.017089</td>\n",
       "      <td>-0.001677</td>\n",
       "      <td>0.001300</td>\n",
       "      <td>1.000000</td>\n",
       "      <td>NaN</td>\n",
       "      <td>NaN</td>\n",
       "      <td>0.105859</td>\n",
       "      <td>0.106264</td>\n",
       "    </tr>\n",
       "    <tr>\n",
       "      <th>SHAPE_AREA</th>\n",
       "      <td>NaN</td>\n",
       "      <td>NaN</td>\n",
       "      <td>NaN</td>\n",
       "      <td>NaN</td>\n",
       "      <td>NaN</td>\n",
       "      <td>NaN</td>\n",
       "      <td>NaN</td>\n",
       "      <td>NaN</td>\n",
       "      <td>NaN</td>\n",
       "      <td>NaN</td>\n",
       "    </tr>\n",
       "    <tr>\n",
       "      <th>SHAPE_LEN</th>\n",
       "      <td>NaN</td>\n",
       "      <td>NaN</td>\n",
       "      <td>NaN</td>\n",
       "      <td>NaN</td>\n",
       "      <td>NaN</td>\n",
       "      <td>NaN</td>\n",
       "      <td>NaN</td>\n",
       "      <td>NaN</td>\n",
       "      <td>NaN</td>\n",
       "      <td>NaN</td>\n",
       "    </tr>\n",
       "    <tr>\n",
       "      <th>BASE_BBL</th>\n",
       "      <td>0.988555</td>\n",
       "      <td>0.287740</td>\n",
       "      <td>0.075784</td>\n",
       "      <td>-0.328772</td>\n",
       "      <td>0.089522</td>\n",
       "      <td>0.105859</td>\n",
       "      <td>NaN</td>\n",
       "      <td>NaN</td>\n",
       "      <td>1.000000</td>\n",
       "      <td>0.999993</td>\n",
       "    </tr>\n",
       "    <tr>\n",
       "      <th>MPLUTO_BBL</th>\n",
       "      <td>0.988693</td>\n",
       "      <td>0.289493</td>\n",
       "      <td>0.075447</td>\n",
       "      <td>-0.329597</td>\n",
       "      <td>0.089726</td>\n",
       "      <td>0.106264</td>\n",
       "      <td>NaN</td>\n",
       "      <td>NaN</td>\n",
       "      <td>0.999993</td>\n",
       "      <td>1.000000</td>\n",
       "    </tr>\n",
       "  </tbody>\n",
       "</table>\n",
       "</div>"
      ],
      "text/plain": [
       "                 BIN  CNSTRCT_YR  DOITT_ID  HEIGHTROOF  FEAT_CODE  GROUNDELEV  \\\n",
       "BIN         1.000000    0.293091  0.156252   -0.358951   0.190366    0.086760   \n",
       "CNSTRCT_YR  0.293091    1.000000  0.189700    0.015941  -0.131369   -0.002766   \n",
       "DOITT_ID    0.156252    0.189700  1.000000   -0.169200   0.546314   -0.017089   \n",
       "HEIGHTROOF -0.358951    0.015941 -0.169200    1.000000  -0.362731   -0.001677   \n",
       "FEAT_CODE   0.190366   -0.131369  0.546314   -0.362731   1.000000    0.001300   \n",
       "GROUNDELEV  0.086760   -0.002766 -0.017089   -0.001677   0.001300    1.000000   \n",
       "SHAPE_AREA       NaN         NaN       NaN         NaN        NaN         NaN   \n",
       "SHAPE_LEN        NaN         NaN       NaN         NaN        NaN         NaN   \n",
       "BASE_BBL    0.988555    0.287740  0.075784   -0.328772   0.089522    0.105859   \n",
       "MPLUTO_BBL  0.988693    0.289493  0.075447   -0.329597   0.089726    0.106264   \n",
       "\n",
       "            SHAPE_AREA  SHAPE_LEN  BASE_BBL  MPLUTO_BBL  \n",
       "BIN                NaN        NaN  0.988555    0.988693  \n",
       "CNSTRCT_YR         NaN        NaN  0.287740    0.289493  \n",
       "DOITT_ID           NaN        NaN  0.075784    0.075447  \n",
       "HEIGHTROOF         NaN        NaN -0.328772   -0.329597  \n",
       "FEAT_CODE          NaN        NaN  0.089522    0.089726  \n",
       "GROUNDELEV         NaN        NaN  0.105859    0.106264  \n",
       "SHAPE_AREA         NaN        NaN       NaN         NaN  \n",
       "SHAPE_LEN          NaN        NaN       NaN         NaN  \n",
       "BASE_BBL           NaN        NaN  1.000000    0.999993  \n",
       "MPLUTO_BBL         NaN        NaN  0.999993    1.000000  "
      ]
     },
     "execution_count": 20,
     "metadata": {},
     "output_type": "execute_result"
    }
   ],
   "source": [
    "# compute pairwise correlation of columns, excluding NA/null values\n",
    "building_df.corr()"
   ]
  },
  {
   "cell_type": "code",
   "execution_count": 21,
   "metadata": {},
   "outputs": [
    {
     "data": {
      "image/png": "[encoded data removed]",
      "text/plain": [
       "<Figure size 720x432 with 2 Axes>"
      ]
     },
     "metadata": {
      "needs_background": "light"
     },
     "output_type": "display_data"
    }
   ],
   "source": [
    "# correlation in the form of heat map\n",
    "fig, ax = plt.subplots(figsize=(10,6))\n",
    "\n",
    "sns.heatmap(building_df.corr(), \n",
    "            annot=True, \n",
    "            ax=ax)\n",
    "\n",
    "plt.tight_layout()"
   ]
  },
  {
   "cell_type": "code",
   "execution_count": 22,
   "metadata": {},
   "outputs": [
    {
     "data": {
      "image/png": "[encoded data removed]",
      "text/plain": [
       "<Figure size 720x432 with 2 Axes>"
      ]
     },
     "metadata": {
      "needs_background": "light"
     },
     "output_type": "display_data"
    }
   ],
   "source": [
    "# correlation in the form of heat map\n",
    "fig, ax = plt.subplots(figsize=(10,6))\n",
    "\n",
    "# dropping columns of all nulls\n",
    "corr_df = building_df.drop(columns=['SHAPE_AREA', 'SHAPE_LEN'])\n",
    "\n",
    "sns.heatmap(corr_df.corr(), \n",
    "            annot=True, \n",
    "            ax=ax)\n",
    "\n",
    "plt.tight_layout()"
   ]
  },
  {
   "cell_type": "markdown",
   "metadata": {},
   "source": [
    "## 3.3 Identifying Null/NA Values"
   ]
  },
  {
   "cell_type": "code",
   "execution_count": 23,
   "metadata": {},
   "outputs": [
    {
     "data": {
      "text/plain": [
       "the_geom            0\n",
       "NAME          1082642\n",
       "BIN                 0\n",
       "CNSTRCT_YR      10827\n",
       "LSTMODDATE          0\n",
       "LSTSTATYPE        258\n",
       "DOITT_ID            0\n",
       "HEIGHTROOF       2684\n",
       "FEAT_CODE           7\n",
       "GROUNDELEV        547\n",
       "SHAPE_AREA          0\n",
       "SHAPE_LEN           0\n",
       "BASE_BBL            4\n",
       "MPLUTO_BBL       2711\n",
       "GEOMSOURCE        234\n",
       "dtype: int64"
      ]
     },
     "execution_count": 23,
     "metadata": {},
     "output_type": "execute_result"
    }
   ],
   "source": [
    "# nulls per column\n",
    "building_df.isnull().sum()"
   ]
  },
  {
   "cell_type": "code",
   "execution_count": 24,
   "metadata": {},
   "outputs": [
    {
     "name": "stdout",
     "output_type": "stream",
     "text": [
      "total nulls in dataframe: 1,099,914\n"
     ]
    }
   ],
   "source": [
    "# total nulls in dataframe\n",
    "null_count = building_df.isnull().sum().sum()\n",
    "\n",
    "print('total nulls in dataframe: {:,}'.format(null_count))"
   ]
  },
  {
   "cell_type": "code",
   "execution_count": 25,
   "metadata": {},
   "outputs": [
    {
     "data": {
      "text/html": [
       "<div>\n",
       "<style scoped>\n",
       "    .dataframe tbody tr th:only-of-type {\n",
       "        vertical-align: middle;\n",
       "    }\n",
       "\n",
       "    .dataframe tbody tr th {\n",
       "        vertical-align: top;\n",
       "    }\n",
       "\n",
       "    .dataframe thead th {\n",
       "        text-align: right;\n",
       "    }\n",
       "</style>\n",
       "<table border=\"1\" class=\"dataframe\">\n",
       "  <thead>\n",
       "    <tr style=\"text-align: right;\">\n",
       "      <th></th>\n",
       "      <th>the_geom</th>\n",
       "      <th>NAME</th>\n",
       "      <th>BIN</th>\n",
       "      <th>CNSTRCT_YR</th>\n",
       "      <th>LSTMODDATE</th>\n",
       "      <th>LSTSTATYPE</th>\n",
       "      <th>DOITT_ID</th>\n",
       "      <th>HEIGHTROOF</th>\n",
       "      <th>FEAT_CODE</th>\n",
       "      <th>GROUNDELEV</th>\n",
       "      <th>SHAPE_AREA</th>\n",
       "      <th>SHAPE_LEN</th>\n",
       "      <th>BASE_BBL</th>\n",
       "      <th>MPLUTO_BBL</th>\n",
       "      <th>GEOMSOURCE</th>\n",
       "    </tr>\n",
       "  </thead>\n",
       "  <tbody>\n",
       "    <tr>\n",
       "      <th>0</th>\n",
       "      <td>False</td>\n",
       "      <td>True</td>\n",
       "      <td>False</td>\n",
       "      <td>False</td>\n",
       "      <td>False</td>\n",
       "      <td>False</td>\n",
       "      <td>False</td>\n",
       "      <td>False</td>\n",
       "      <td>False</td>\n",
       "      <td>False</td>\n",
       "      <td>False</td>\n",
       "      <td>False</td>\n",
       "      <td>False</td>\n",
       "      <td>False</td>\n",
       "      <td>False</td>\n",
       "    </tr>\n",
       "    <tr>\n",
       "      <th>1</th>\n",
       "      <td>False</td>\n",
       "      <td>True</td>\n",
       "      <td>False</td>\n",
       "      <td>False</td>\n",
       "      <td>False</td>\n",
       "      <td>False</td>\n",
       "      <td>False</td>\n",
       "      <td>False</td>\n",
       "      <td>False</td>\n",
       "      <td>False</td>\n",
       "      <td>False</td>\n",
       "      <td>False</td>\n",
       "      <td>False</td>\n",
       "      <td>False</td>\n",
       "      <td>False</td>\n",
       "    </tr>\n",
       "    <tr>\n",
       "      <th>2</th>\n",
       "      <td>False</td>\n",
       "      <td>True</td>\n",
       "      <td>False</td>\n",
       "      <td>False</td>\n",
       "      <td>False</td>\n",
       "      <td>False</td>\n",
       "      <td>False</td>\n",
       "      <td>False</td>\n",
       "      <td>False</td>\n",
       "      <td>False</td>\n",
       "      <td>False</td>\n",
       "      <td>False</td>\n",
       "      <td>False</td>\n",
       "      <td>False</td>\n",
       "      <td>False</td>\n",
       "    </tr>\n",
       "    <tr>\n",
       "      <th>3</th>\n",
       "      <td>False</td>\n",
       "      <td>True</td>\n",
       "      <td>False</td>\n",
       "      <td>False</td>\n",
       "      <td>False</td>\n",
       "      <td>False</td>\n",
       "      <td>False</td>\n",
       "      <td>False</td>\n",
       "      <td>False</td>\n",
       "      <td>False</td>\n",
       "      <td>False</td>\n",
       "      <td>False</td>\n",
       "      <td>False</td>\n",
       "      <td>False</td>\n",
       "      <td>False</td>\n",
       "    </tr>\n",
       "    <tr>\n",
       "      <th>4</th>\n",
       "      <td>False</td>\n",
       "      <td>True</td>\n",
       "      <td>False</td>\n",
       "      <td>False</td>\n",
       "      <td>False</td>\n",
       "      <td>False</td>\n",
       "      <td>False</td>\n",
       "      <td>False</td>\n",
       "      <td>False</td>\n",
       "      <td>False</td>\n",
       "      <td>False</td>\n",
       "      <td>False</td>\n",
       "      <td>False</td>\n",
       "      <td>False</td>\n",
       "      <td>False</td>\n",
       "    </tr>\n",
       "    <tr>\n",
       "      <th>...</th>\n",
       "      <td>...</td>\n",
       "      <td>...</td>\n",
       "      <td>...</td>\n",
       "      <td>...</td>\n",
       "      <td>...</td>\n",
       "      <td>...</td>\n",
       "      <td>...</td>\n",
       "      <td>...</td>\n",
       "      <td>...</td>\n",
       "      <td>...</td>\n",
       "      <td>...</td>\n",
       "      <td>...</td>\n",
       "      <td>...</td>\n",
       "      <td>...</td>\n",
       "      <td>...</td>\n",
       "    </tr>\n",
       "    <tr>\n",
       "      <th>1084574</th>\n",
       "      <td>False</td>\n",
       "      <td>True</td>\n",
       "      <td>False</td>\n",
       "      <td>False</td>\n",
       "      <td>False</td>\n",
       "      <td>False</td>\n",
       "      <td>False</td>\n",
       "      <td>False</td>\n",
       "      <td>False</td>\n",
       "      <td>False</td>\n",
       "      <td>False</td>\n",
       "      <td>False</td>\n",
       "      <td>False</td>\n",
       "      <td>False</td>\n",
       "      <td>False</td>\n",
       "    </tr>\n",
       "    <tr>\n",
       "      <th>1084575</th>\n",
       "      <td>False</td>\n",
       "      <td>True</td>\n",
       "      <td>False</td>\n",
       "      <td>False</td>\n",
       "      <td>False</td>\n",
       "      <td>False</td>\n",
       "      <td>False</td>\n",
       "      <td>False</td>\n",
       "      <td>False</td>\n",
       "      <td>False</td>\n",
       "      <td>False</td>\n",
       "      <td>False</td>\n",
       "      <td>False</td>\n",
       "      <td>False</td>\n",
       "      <td>False</td>\n",
       "    </tr>\n",
       "    <tr>\n",
       "      <th>1084576</th>\n",
       "      <td>False</td>\n",
       "      <td>True</td>\n",
       "      <td>False</td>\n",
       "      <td>False</td>\n",
       "      <td>False</td>\n",
       "      <td>False</td>\n",
       "      <td>False</td>\n",
       "      <td>False</td>\n",
       "      <td>False</td>\n",
       "      <td>False</td>\n",
       "      <td>False</td>\n",
       "      <td>False</td>\n",
       "      <td>False</td>\n",
       "      <td>False</td>\n",
       "      <td>False</td>\n",
       "    </tr>\n",
       "    <tr>\n",
       "      <th>1084577</th>\n",
       "      <td>False</td>\n",
       "      <td>True</td>\n",
       "      <td>False</td>\n",
       "      <td>False</td>\n",
       "      <td>False</td>\n",
       "      <td>False</td>\n",
       "      <td>False</td>\n",
       "      <td>False</td>\n",
       "      <td>False</td>\n",
       "      <td>False</td>\n",
       "      <td>False</td>\n",
       "      <td>False</td>\n",
       "      <td>False</td>\n",
       "      <td>False</td>\n",
       "      <td>False</td>\n",
       "    </tr>\n",
       "    <tr>\n",
       "      <th>1084578</th>\n",
       "      <td>False</td>\n",
       "      <td>True</td>\n",
       "      <td>False</td>\n",
       "      <td>False</td>\n",
       "      <td>False</td>\n",
       "      <td>False</td>\n",
       "      <td>False</td>\n",
       "      <td>False</td>\n",
       "      <td>False</td>\n",
       "      <td>False</td>\n",
       "      <td>False</td>\n",
       "      <td>False</td>\n",
       "      <td>False</td>\n",
       "      <td>False</td>\n",
       "      <td>False</td>\n",
       "    </tr>\n",
       "  </tbody>\n",
       "</table>\n",
       "<p>1084579 rows × 15 columns</p>\n",
       "</div>"
      ],
      "text/plain": [
       "         the_geom  NAME    BIN  CNSTRCT_YR  LSTMODDATE  LSTSTATYPE  DOITT_ID  \\\n",
       "0           False  True  False       False       False       False     False   \n",
       "1           False  True  False       False       False       False     False   \n",
       "2           False  True  False       False       False       False     False   \n",
       "3           False  True  False       False       False       False     False   \n",
       "4           False  True  False       False       False       False     False   \n",
       "...           ...   ...    ...         ...         ...         ...       ...   \n",
       "1084574     False  True  False       False       False       False     False   \n",
       "1084575     False  True  False       False       False       False     False   \n",
       "1084576     False  True  False       False       False       False     False   \n",
       "1084577     False  True  False       False       False       False     False   \n",
       "1084578     False  True  False       False       False       False     False   \n",
       "\n",
       "         HEIGHTROOF  FEAT_CODE  GROUNDELEV  SHAPE_AREA  SHAPE_LEN  BASE_BBL  \\\n",
       "0             False      False       False       False      False     False   \n",
       "1             False      False       False       False      False     False   \n",
       "2             False      False       False       False      False     False   \n",
       "3             False      False       False       False      False     False   \n",
       "4             False      False       False       False      False     False   \n",
       "...             ...        ...         ...         ...        ...       ...   \n",
       "1084574       False      False       False       False      False     False   \n",
       "1084575       False      False       False       False      False     False   \n",
       "1084576       False      False       False       False      False     False   \n",
       "1084577       False      False       False       False      False     False   \n",
       "1084578       False      False       False       False      False     False   \n",
       "\n",
       "         MPLUTO_BBL  GEOMSOURCE  \n",
       "0             False       False  \n",
       "1             False       False  \n",
       "2             False       False  \n",
       "3             False       False  \n",
       "4             False       False  \n",
       "...             ...         ...  \n",
       "1084574       False       False  \n",
       "1084575       False       False  \n",
       "1084576       False       False  \n",
       "1084577       False       False  \n",
       "1084578       False       False  \n",
       "\n",
       "[1084579 rows x 15 columns]"
      ]
     },
     "execution_count": 25,
     "metadata": {},
     "output_type": "execute_result"
    }
   ],
   "source": [
    "# return a boolean same-sized object of nulls\n",
    "building_df.isnull()"
   ]
  },
  {
   "cell_type": "code",
   "execution_count": 26,
   "metadata": {},
   "outputs": [
    {
     "data": {
      "text/plain": [
       "the_geom      False\n",
       "NAME           True\n",
       "BIN           False\n",
       "CNSTRCT_YR     True\n",
       "LSTMODDATE    False\n",
       "LSTSTATYPE     True\n",
       "DOITT_ID      False\n",
       "HEIGHTROOF     True\n",
       "FEAT_CODE      True\n",
       "GROUNDELEV     True\n",
       "SHAPE_AREA    False\n",
       "SHAPE_LEN     False\n",
       "BASE_BBL       True\n",
       "MPLUTO_BBL     True\n",
       "GEOMSOURCE     True\n",
       "dtype: bool"
      ]
     },
     "execution_count": 26,
     "metadata": {},
     "output_type": "execute_result"
    }
   ],
   "source": [
    "# return a boolean if any of the values are null in column\n",
    "building_df.isnull().any()"
   ]
  },
  {
   "cell_type": "code",
   "execution_count": 27,
   "metadata": {},
   "outputs": [
    {
     "name": "stdout",
     "output_type": "stream",
     "text": [
      "these columns have at least one null value:\n",
      "\n",
      "NAME\n",
      "CNSTRCT_YR\n",
      "LSTSTATYPE\n",
      "HEIGHTROOF\n",
      "FEAT_CODE\n",
      "GROUNDELEV\n",
      "BASE_BBL\n",
      "MPLUTO_BBL\n",
      "GEOMSOURCE\n"
     ]
    }
   ],
   "source": [
    "null_cols_ser = building_df.isnull().any()\n",
    "\n",
    "# locating columns by boolean 'True'\n",
    "null_cols = null_cols_ser.loc[null_cols_ser].index\n",
    "\n",
    "print('these columns have at least one null value:\\n')\n",
    "for col in null_cols:\n",
    "    print(col)"
   ]
  },
  {
   "cell_type": "code",
   "execution_count": 28,
   "metadata": {},
   "outputs": [
    {
     "data": {
      "text/html": [
       "<div>\n",
       "<style scoped>\n",
       "    .dataframe tbody tr th:only-of-type {\n",
       "        vertical-align: middle;\n",
       "    }\n",
       "\n",
       "    .dataframe tbody tr th {\n",
       "        vertical-align: top;\n",
       "    }\n",
       "\n",
       "    .dataframe thead th {\n",
       "        text-align: right;\n",
       "    }\n",
       "</style>\n",
       "<table border=\"1\" class=\"dataframe\">\n",
       "  <thead>\n",
       "    <tr style=\"text-align: right;\">\n",
       "      <th></th>\n",
       "      <th>perc_missing</th>\n",
       "    </tr>\n",
       "  </thead>\n",
       "  <tbody>\n",
       "    <tr>\n",
       "      <th>NAME</th>\n",
       "      <td>99.821405</td>\n",
       "    </tr>\n",
       "    <tr>\n",
       "      <th>CNSTRCT_YR</th>\n",
       "      <td>0.998268</td>\n",
       "    </tr>\n",
       "    <tr>\n",
       "      <th>MPLUTO_BBL</th>\n",
       "      <td>0.249959</td>\n",
       "    </tr>\n",
       "    <tr>\n",
       "      <th>HEIGHTROOF</th>\n",
       "      <td>0.247469</td>\n",
       "    </tr>\n",
       "    <tr>\n",
       "      <th>GROUNDELEV</th>\n",
       "      <td>0.050434</td>\n",
       "    </tr>\n",
       "    <tr>\n",
       "      <th>LSTSTATYPE</th>\n",
       "      <td>0.023788</td>\n",
       "    </tr>\n",
       "    <tr>\n",
       "      <th>GEOMSOURCE</th>\n",
       "      <td>0.021575</td>\n",
       "    </tr>\n",
       "    <tr>\n",
       "      <th>FEAT_CODE</th>\n",
       "      <td>0.000645</td>\n",
       "    </tr>\n",
       "    <tr>\n",
       "      <th>BASE_BBL</th>\n",
       "      <td>0.000369</td>\n",
       "    </tr>\n",
       "    <tr>\n",
       "      <th>the_geom</th>\n",
       "      <td>0.000000</td>\n",
       "    </tr>\n",
       "    <tr>\n",
       "      <th>BIN</th>\n",
       "      <td>0.000000</td>\n",
       "    </tr>\n",
       "    <tr>\n",
       "      <th>LSTMODDATE</th>\n",
       "      <td>0.000000</td>\n",
       "    </tr>\n",
       "    <tr>\n",
       "      <th>DOITT_ID</th>\n",
       "      <td>0.000000</td>\n",
       "    </tr>\n",
       "    <tr>\n",
       "      <th>SHAPE_AREA</th>\n",
       "      <td>0.000000</td>\n",
       "    </tr>\n",
       "    <tr>\n",
       "      <th>SHAPE_LEN</th>\n",
       "      <td>0.000000</td>\n",
       "    </tr>\n",
       "  </tbody>\n",
       "</table>\n",
       "</div>"
      ],
      "text/plain": [
       "            perc_missing\n",
       "NAME           99.821405\n",
       "CNSTRCT_YR      0.998268\n",
       "MPLUTO_BBL      0.249959\n",
       "HEIGHTROOF      0.247469\n",
       "GROUNDELEV      0.050434\n",
       "LSTSTATYPE      0.023788\n",
       "GEOMSOURCE      0.021575\n",
       "FEAT_CODE       0.000645\n",
       "BASE_BBL        0.000369\n",
       "the_geom        0.000000\n",
       "BIN             0.000000\n",
       "LSTMODDATE      0.000000\n",
       "DOITT_ID        0.000000\n",
       "SHAPE_AREA      0.000000\n",
       "SHAPE_LEN       0.000000"
      ]
     },
     "execution_count": 28,
     "metadata": {},
     "output_type": "execute_result"
    }
   ],
   "source": [
    "# calculating a percentage of the number of nulls to total number of records of each column\n",
    "missing_data = (building_df.isnull().sum() / len(building_df)) * 100\n",
    "\n",
    "# creating a dataframe\n",
    "missing_data = pd.DataFrame(missing_data, columns=['perc_missing']) \n",
    "missing_data = missing_data.sort_values(by='perc_missing', ascending=False)\n",
    "\n",
    "missing_data"
   ]
  },
  {
   "cell_type": "markdown",
   "metadata": {},
   "source": [
    "# 4. Data Cleaning & Wrangling"
   ]
  },
  {
   "cell_type": "markdown",
   "metadata": {},
   "source": [
    "We will be cleaning the **Construction Year** (i.e. CNSTRCT_YR) column, as this is the column we will be using in our analysis."
   ]
  },
  {
   "cell_type": "markdown",
   "metadata": {},
   "source": [
    "## Attribute Information for CNSTRCT_YR:\n",
    "---------------------------------------------\n",
    "| Attribute | Description | Field Type | Sensitive Field (Y/N) | Notes| \n",
    "|------------ | ------------- | -------- | ----------- | ----------|\n",
    "| CNSTRCT_YR | The year construction of the building was completed. <br>Originally this column was populated using the Department of Finance Real Property Assessment Database (RPAD). Beginning in 2017 this will be the first year the completed structure is visible in available orthoimagery. Records where this is zero or NULL mean that this information was not available. | double | No"
   ]
  },
  {
   "cell_type": "markdown",
   "metadata": {},
   "source": [
    "## 4.1 Previewing Column Values"
   ]
  },
  {
   "cell_type": "code",
   "execution_count": 29,
   "metadata": {},
   "outputs": [
    {
     "data": {
      "text/plain": [
       "pandas.core.series.Series"
      ]
     },
     "execution_count": 29,
     "metadata": {},
     "output_type": "execute_result"
    }
   ],
   "source": [
    "# printing the object's type of a column\n",
    "type(building_df['CNSTRCT_YR'])"
   ]
  },
  {
   "cell_type": "code",
   "execution_count": 30,
   "metadata": {},
   "outputs": [
    {
     "name": "stdout",
     "output_type": "stream",
     "text": [
      "<class 'pandas.core.series.Series'>\n",
      "<class 'pandas.core.frame.DataFrame'>\n"
     ]
    }
   ],
   "source": [
    "# notice the difference of type from dataframe to series\n",
    "print(type(building_df[\"CNSTRCT_YR\"]))\n",
    "print(type(building_df[[\"CNSTRCT_YR\"]]))"
   ]
  },
  {
   "cell_type": "code",
   "execution_count": 31,
   "metadata": {},
   "outputs": [
    {
     "data": {
      "text/plain": [
       "0          1925.0\n",
       "1          1965.0\n",
       "2          1970.0\n",
       "3          1928.0\n",
       "4          1950.0\n",
       "            ...  \n",
       "1084574    1986.0\n",
       "1084575    1986.0\n",
       "1084576    1986.0\n",
       "1084577    1986.0\n",
       "1084578    1986.0\n",
       "Name: CNSTRCT_YR, Length: 1084579, dtype: float64"
      ]
     },
     "execution_count": 31,
     "metadata": {},
     "output_type": "execute_result"
    }
   ],
   "source": [
    "# returning a series of the 'CNSTRCT_YR' column\n",
    "building_df[\"CNSTRCT_YR\"]"
   ]
  },
  {
   "cell_type": "code",
   "execution_count": 32,
   "metadata": {},
   "outputs": [
    {
     "data": {
      "text/html": [
       "<div>\n",
       "<style scoped>\n",
       "    .dataframe tbody tr th:only-of-type {\n",
       "        vertical-align: middle;\n",
       "    }\n",
       "\n",
       "    .dataframe tbody tr th {\n",
       "        vertical-align: top;\n",
       "    }\n",
       "\n",
       "    .dataframe thead th {\n",
       "        text-align: right;\n",
       "    }\n",
       "</style>\n",
       "<table border=\"1\" class=\"dataframe\">\n",
       "  <thead>\n",
       "    <tr style=\"text-align: right;\">\n",
       "      <th></th>\n",
       "      <th>CNSTRCT_YR</th>\n",
       "    </tr>\n",
       "  </thead>\n",
       "  <tbody>\n",
       "    <tr>\n",
       "      <th>0</th>\n",
       "      <td>1925.0</td>\n",
       "    </tr>\n",
       "    <tr>\n",
       "      <th>1</th>\n",
       "      <td>1965.0</td>\n",
       "    </tr>\n",
       "    <tr>\n",
       "      <th>2</th>\n",
       "      <td>1970.0</td>\n",
       "    </tr>\n",
       "    <tr>\n",
       "      <th>3</th>\n",
       "      <td>1928.0</td>\n",
       "    </tr>\n",
       "    <tr>\n",
       "      <th>4</th>\n",
       "      <td>1950.0</td>\n",
       "    </tr>\n",
       "    <tr>\n",
       "      <th>...</th>\n",
       "      <td>...</td>\n",
       "    </tr>\n",
       "    <tr>\n",
       "      <th>1084574</th>\n",
       "      <td>1986.0</td>\n",
       "    </tr>\n",
       "    <tr>\n",
       "      <th>1084575</th>\n",
       "      <td>1986.0</td>\n",
       "    </tr>\n",
       "    <tr>\n",
       "      <th>1084576</th>\n",
       "      <td>1986.0</td>\n",
       "    </tr>\n",
       "    <tr>\n",
       "      <th>1084577</th>\n",
       "      <td>1986.0</td>\n",
       "    </tr>\n",
       "    <tr>\n",
       "      <th>1084578</th>\n",
       "      <td>1986.0</td>\n",
       "    </tr>\n",
       "  </tbody>\n",
       "</table>\n",
       "<p>1084579 rows × 1 columns</p>\n",
       "</div>"
      ],
      "text/plain": [
       "         CNSTRCT_YR\n",
       "0            1925.0\n",
       "1            1965.0\n",
       "2            1970.0\n",
       "3            1928.0\n",
       "4            1950.0\n",
       "...             ...\n",
       "1084574      1986.0\n",
       "1084575      1986.0\n",
       "1084576      1986.0\n",
       "1084577      1986.0\n",
       "1084578      1986.0\n",
       "\n",
       "[1084579 rows x 1 columns]"
      ]
     },
     "execution_count": 32,
     "metadata": {},
     "output_type": "execute_result"
    }
   ],
   "source": [
    "# returning a dataframe of the 'CNSTRCT_YR' column double brackets\n",
    "building_df[[\"CNSTRCT_YR\"]]"
   ]
  },
  {
   "cell_type": "code",
   "execution_count": 33,
   "metadata": {
    "scrolled": true
   },
   "outputs": [
    {
     "data": {
      "text/html": [
       "<div>\n",
       "<style scoped>\n",
       "    .dataframe tbody tr th:only-of-type {\n",
       "        vertical-align: middle;\n",
       "    }\n",
       "\n",
       "    .dataframe tbody tr th {\n",
       "        vertical-align: top;\n",
       "    }\n",
       "\n",
       "    .dataframe thead th {\n",
       "        text-align: right;\n",
       "    }\n",
       "</style>\n",
       "<table border=\"1\" class=\"dataframe\">\n",
       "  <thead>\n",
       "    <tr style=\"text-align: right;\">\n",
       "      <th></th>\n",
       "      <th>the_geom</th>\n",
       "      <th>NAME</th>\n",
       "      <th>BIN</th>\n",
       "      <th>CNSTRCT_YR</th>\n",
       "      <th>LSTMODDATE</th>\n",
       "      <th>LSTSTATYPE</th>\n",
       "      <th>DOITT_ID</th>\n",
       "      <th>HEIGHTROOF</th>\n",
       "      <th>FEAT_CODE</th>\n",
       "      <th>GROUNDELEV</th>\n",
       "      <th>SHAPE_AREA</th>\n",
       "      <th>SHAPE_LEN</th>\n",
       "      <th>BASE_BBL</th>\n",
       "      <th>MPLUTO_BBL</th>\n",
       "      <th>GEOMSOURCE</th>\n",
       "    </tr>\n",
       "  </thead>\n",
       "  <tbody>\n",
       "    <tr>\n",
       "      <th>1044341</th>\n",
       "      <td>MULTIPOLYGON (((-73.92083460429942 40.64439765...</td>\n",
       "      <td>Pieter Claesen Wyckoff House</td>\n",
       "      <td>3221967</td>\n",
       "      <td>1652.0</td>\n",
       "      <td>01/28/2020 12:00:00 AM</td>\n",
       "      <td>Constructed</td>\n",
       "      <td>550741</td>\n",
       "      <td>24.540000</td>\n",
       "      <td>2100.0</td>\n",
       "      <td>14.0</td>\n",
       "      <td>0</td>\n",
       "      <td>0</td>\n",
       "      <td>3.079170e+09</td>\n",
       "      <td>3.079170e+09</td>\n",
       "      <td>Photogramm</td>\n",
       "    </tr>\n",
       "    <tr>\n",
       "      <th>776301</th>\n",
       "      <td>MULTIPOLYGON (((-73.8247828135812 40.762948467...</td>\n",
       "      <td>Bowne House</td>\n",
       "      <td>4113403</td>\n",
       "      <td>1661.0</td>\n",
       "      <td>08/22/2017 12:00:00 AM</td>\n",
       "      <td>Constructed</td>\n",
       "      <td>776399</td>\n",
       "      <td>26.120000</td>\n",
       "      <td>2100.0</td>\n",
       "      <td>64.0</td>\n",
       "      <td>0</td>\n",
       "      <td>0</td>\n",
       "      <td>4.050130e+09</td>\n",
       "      <td>4.050130e+09</td>\n",
       "      <td>Photogramm</td>\n",
       "    </tr>\n",
       "    <tr>\n",
       "      <th>470946</th>\n",
       "      <td>MULTIPOLYGON (((-73.82449114078894 40.76279389...</td>\n",
       "      <td>NaN</td>\n",
       "      <td>4610542</td>\n",
       "      <td>1661.0</td>\n",
       "      <td>08/17/2017 12:00:00 AM</td>\n",
       "      <td>Constructed</td>\n",
       "      <td>1190137</td>\n",
       "      <td>14.846959</td>\n",
       "      <td>5110.0</td>\n",
       "      <td>63.0</td>\n",
       "      <td>0</td>\n",
       "      <td>0</td>\n",
       "      <td>4.050130e+09</td>\n",
       "      <td>4.050130e+09</td>\n",
       "      <td>Photogramm</td>\n",
       "    </tr>\n",
       "    <tr>\n",
       "      <th>57665</th>\n",
       "      <td>MULTIPOLYGON (((-74.25311647359251 40.50309522...</td>\n",
       "      <td>Conference House</td>\n",
       "      <td>5087656</td>\n",
       "      <td>1680.0</td>\n",
       "      <td>04/13/2020 12:00:00 AM</td>\n",
       "      <td>Constructed</td>\n",
       "      <td>702698</td>\n",
       "      <td>38.640000</td>\n",
       "      <td>2100.0</td>\n",
       "      <td>38.0</td>\n",
       "      <td>0</td>\n",
       "      <td>0</td>\n",
       "      <td>5.078570e+09</td>\n",
       "      <td>5.078570e+09</td>\n",
       "      <td>Photogramm</td>\n",
       "    </tr>\n",
       "    <tr>\n",
       "      <th>570083</th>\n",
       "      <td>MULTIPOLYGON (((-74.06293248238293 40.61512359...</td>\n",
       "      <td>Alice Austen House Museum</td>\n",
       "      <td>5042188</td>\n",
       "      <td>1690.0</td>\n",
       "      <td>04/13/2020 12:00:00 AM</td>\n",
       "      <td>Alteration</td>\n",
       "      <td>806241</td>\n",
       "      <td>22.260000</td>\n",
       "      <td>2100.0</td>\n",
       "      <td>21.0</td>\n",
       "      <td>0</td>\n",
       "      <td>0</td>\n",
       "      <td>5.028300e+09</td>\n",
       "      <td>5.028300e+09</td>\n",
       "      <td>Photogramm</td>\n",
       "    </tr>\n",
       "  </tbody>\n",
       "</table>\n",
       "</div>"
      ],
      "text/plain": [
       "                                                  the_geom  \\\n",
       "1044341  MULTIPOLYGON (((-73.92083460429942 40.64439765...   \n",
       "776301   MULTIPOLYGON (((-73.8247828135812 40.762948467...   \n",
       "470946   MULTIPOLYGON (((-73.82449114078894 40.76279389...   \n",
       "57665    MULTIPOLYGON (((-74.25311647359251 40.50309522...   \n",
       "570083   MULTIPOLYGON (((-74.06293248238293 40.61512359...   \n",
       "\n",
       "                                 NAME      BIN  CNSTRCT_YR  \\\n",
       "1044341  Pieter Claesen Wyckoff House  3221967      1652.0   \n",
       "776301                    Bowne House  4113403      1661.0   \n",
       "470946                            NaN  4610542      1661.0   \n",
       "57665                Conference House  5087656      1680.0   \n",
       "570083      Alice Austen House Museum  5042188      1690.0   \n",
       "\n",
       "                     LSTMODDATE   LSTSTATYPE  DOITT_ID  HEIGHTROOF  FEAT_CODE  \\\n",
       "1044341  01/28/2020 12:00:00 AM  Constructed    550741   24.540000     2100.0   \n",
       "776301   08/22/2017 12:00:00 AM  Constructed    776399   26.120000     2100.0   \n",
       "470946   08/17/2017 12:00:00 AM  Constructed   1190137   14.846959     5110.0   \n",
       "57665    04/13/2020 12:00:00 AM  Constructed    702698   38.640000     2100.0   \n",
       "570083   04/13/2020 12:00:00 AM   Alteration    806241   22.260000     2100.0   \n",
       "\n",
       "         GROUNDELEV  SHAPE_AREA  SHAPE_LEN      BASE_BBL    MPLUTO_BBL  \\\n",
       "1044341        14.0           0          0  3.079170e+09  3.079170e+09   \n",
       "776301         64.0           0          0  4.050130e+09  4.050130e+09   \n",
       "470946         63.0           0          0  4.050130e+09  4.050130e+09   \n",
       "57665          38.0           0          0  5.078570e+09  5.078570e+09   \n",
       "570083         21.0           0          0  5.028300e+09  5.028300e+09   \n",
       "\n",
       "         GEOMSOURCE  \n",
       "1044341  Photogramm  \n",
       "776301   Photogramm  \n",
       "470946   Photogramm  \n",
       "57665    Photogramm  \n",
       "570083   Photogramm  "
      ]
     },
     "execution_count": 33,
     "metadata": {},
     "output_type": "execute_result"
    }
   ],
   "source": [
    "# first five rows sorted by the 'CNSTRCT_YR' column in ascending order\n",
    "building_df.sort_values('CNSTRCT_YR').head()"
   ]
  },
  {
   "cell_type": "code",
   "execution_count": 34,
   "metadata": {},
   "outputs": [
    {
     "data": {
      "text/html": [
       "<div>\n",
       "<style scoped>\n",
       "    .dataframe tbody tr th:only-of-type {\n",
       "        vertical-align: middle;\n",
       "    }\n",
       "\n",
       "    .dataframe tbody tr th {\n",
       "        vertical-align: top;\n",
       "    }\n",
       "\n",
       "    .dataframe thead th {\n",
       "        text-align: right;\n",
       "    }\n",
       "</style>\n",
       "<table border=\"1\" class=\"dataframe\">\n",
       "  <thead>\n",
       "    <tr style=\"text-align: right;\">\n",
       "      <th></th>\n",
       "      <th>the_geom</th>\n",
       "      <th>NAME</th>\n",
       "      <th>BIN</th>\n",
       "      <th>CNSTRCT_YR</th>\n",
       "      <th>LSTMODDATE</th>\n",
       "      <th>LSTSTATYPE</th>\n",
       "      <th>DOITT_ID</th>\n",
       "      <th>HEIGHTROOF</th>\n",
       "      <th>FEAT_CODE</th>\n",
       "      <th>GROUNDELEV</th>\n",
       "      <th>SHAPE_AREA</th>\n",
       "      <th>SHAPE_LEN</th>\n",
       "      <th>BASE_BBL</th>\n",
       "      <th>MPLUTO_BBL</th>\n",
       "      <th>GEOMSOURCE</th>\n",
       "    </tr>\n",
       "  </thead>\n",
       "  <tbody>\n",
       "    <tr>\n",
       "      <th>1071842</th>\n",
       "      <td>MULTIPOLYGON (((-73.88423073632094 40.83387119...</td>\n",
       "      <td>NaN</td>\n",
       "      <td>2129122</td>\n",
       "      <td>2022.0</td>\n",
       "      <td>04/05/2022 12:00:00 AM</td>\n",
       "      <td>Constructed</td>\n",
       "      <td>1296731</td>\n",
       "      <td>70.0</td>\n",
       "      <td>5100.0</td>\n",
       "      <td>26.0</td>\n",
       "      <td>0</td>\n",
       "      <td>0</td>\n",
       "      <td>2.030140e+09</td>\n",
       "      <td>NaN</td>\n",
       "      <td>Other (Man</td>\n",
       "    </tr>\n",
       "    <tr>\n",
       "      <th>1079981</th>\n",
       "      <td>MULTIPOLYGON (((-74.16842117082207 40.62881498...</td>\n",
       "      <td>NaN</td>\n",
       "      <td>5169470</td>\n",
       "      <td>2022.0</td>\n",
       "      <td>03/29/2022 12:00:00 AM</td>\n",
       "      <td>Constructed</td>\n",
       "      <td>1296696</td>\n",
       "      <td>30.0</td>\n",
       "      <td>2100.0</td>\n",
       "      <td>15.0</td>\n",
       "      <td>0</td>\n",
       "      <td>0</td>\n",
       "      <td>5.012700e+09</td>\n",
       "      <td>NaN</td>\n",
       "      <td>Other (Man</td>\n",
       "    </tr>\n",
       "    <tr>\n",
       "      <th>1083231</th>\n",
       "      <td>MULTIPOLYGON (((-73.75281001556777 40.60670737...</td>\n",
       "      <td>NaN</td>\n",
       "      <td>4620755</td>\n",
       "      <td>2022.0</td>\n",
       "      <td>07/08/2022 12:00:00 AM</td>\n",
       "      <td>Initialization</td>\n",
       "      <td>1297376</td>\n",
       "      <td>NaN</td>\n",
       "      <td>1003.0</td>\n",
       "      <td>NaN</td>\n",
       "      <td>0</td>\n",
       "      <td>0</td>\n",
       "      <td>4.155370e+09</td>\n",
       "      <td>NaN</td>\n",
       "      <td>Other (Man</td>\n",
       "    </tr>\n",
       "    <tr>\n",
       "      <th>1073348</th>\n",
       "      <td>MULTIPOLYGON (((-73.94327636260768 40.68293549...</td>\n",
       "      <td>NaN</td>\n",
       "      <td>3338719</td>\n",
       "      <td>2022.0</td>\n",
       "      <td>01/06/2022 12:00:00 AM</td>\n",
       "      <td>Initialization</td>\n",
       "      <td>1296255</td>\n",
       "      <td>80.0</td>\n",
       "      <td>5100.0</td>\n",
       "      <td>48.0</td>\n",
       "      <td>0</td>\n",
       "      <td>0</td>\n",
       "      <td>3.018400e+09</td>\n",
       "      <td>NaN</td>\n",
       "      <td>Other (Man</td>\n",
       "    </tr>\n",
       "    <tr>\n",
       "      <th>1083232</th>\n",
       "      <td>MULTIPOLYGON (((-73.75326919826644 40.60548656...</td>\n",
       "      <td>NaN</td>\n",
       "      <td>4458300</td>\n",
       "      <td>2022.0</td>\n",
       "      <td>07/08/2022 12:00:00 AM</td>\n",
       "      <td>Constructed</td>\n",
       "      <td>1297378</td>\n",
       "      <td>155.0</td>\n",
       "      <td>2100.0</td>\n",
       "      <td>24.0</td>\n",
       "      <td>0</td>\n",
       "      <td>0</td>\n",
       "      <td>4.155370e+09</td>\n",
       "      <td>NaN</td>\n",
       "      <td>Other (Man</td>\n",
       "    </tr>\n",
       "  </tbody>\n",
       "</table>\n",
       "</div>"
      ],
      "text/plain": [
       "                                                  the_geom NAME      BIN  \\\n",
       "1071842  MULTIPOLYGON (((-73.88423073632094 40.83387119...  NaN  2129122   \n",
       "1079981  MULTIPOLYGON (((-74.16842117082207 40.62881498...  NaN  5169470   \n",
       "1083231  MULTIPOLYGON (((-73.75281001556777 40.60670737...  NaN  4620755   \n",
       "1073348  MULTIPOLYGON (((-73.94327636260768 40.68293549...  NaN  3338719   \n",
       "1083232  MULTIPOLYGON (((-73.75326919826644 40.60548656...  NaN  4458300   \n",
       "\n",
       "         CNSTRCT_YR              LSTMODDATE      LSTSTATYPE  DOITT_ID  \\\n",
       "1071842      2022.0  04/05/2022 12:00:00 AM     Constructed   1296731   \n",
       "1079981      2022.0  03/29/2022 12:00:00 AM     Constructed   1296696   \n",
       "1083231      2022.0  07/08/2022 12:00:00 AM  Initialization   1297376   \n",
       "1073348      2022.0  01/06/2022 12:00:00 AM  Initialization   1296255   \n",
       "1083232      2022.0  07/08/2022 12:00:00 AM     Constructed   1297378   \n",
       "\n",
       "         HEIGHTROOF  FEAT_CODE  GROUNDELEV  SHAPE_AREA  SHAPE_LEN  \\\n",
       "1071842        70.0     5100.0        26.0           0          0   \n",
       "1079981        30.0     2100.0        15.0           0          0   \n",
       "1083231         NaN     1003.0         NaN           0          0   \n",
       "1073348        80.0     5100.0        48.0           0          0   \n",
       "1083232       155.0     2100.0        24.0           0          0   \n",
       "\n",
       "             BASE_BBL  MPLUTO_BBL  GEOMSOURCE  \n",
       "1071842  2.030140e+09         NaN  Other (Man  \n",
       "1079981  5.012700e+09         NaN  Other (Man  \n",
       "1083231  4.155370e+09         NaN  Other (Man  \n",
       "1073348  3.018400e+09         NaN  Other (Man  \n",
       "1083232  4.155370e+09         NaN  Other (Man  "
      ]
     },
     "execution_count": 34,
     "metadata": {},
     "output_type": "execute_result"
    }
   ],
   "source": [
    "# first five rows sorted by the 'CNSTRCT_YR' column in descending order\n",
    "building_df.sort_values('CNSTRCT_YR', ascending=False).head()"
   ]
  },
  {
   "cell_type": "code",
   "execution_count": 35,
   "metadata": {},
   "outputs": [
    {
     "data": {
      "text/html": [
       "<div>\n",
       "<style scoped>\n",
       "    .dataframe tbody tr th:only-of-type {\n",
       "        vertical-align: middle;\n",
       "    }\n",
       "\n",
       "    .dataframe tbody tr th {\n",
       "        vertical-align: top;\n",
       "    }\n",
       "\n",
       "    .dataframe thead th {\n",
       "        text-align: right;\n",
       "    }\n",
       "</style>\n",
       "<table border=\"1\" class=\"dataframe\">\n",
       "  <thead>\n",
       "    <tr style=\"text-align: right;\">\n",
       "      <th></th>\n",
       "      <th>statistic</th>\n",
       "      <th>CNSTRCT_YR</th>\n",
       "    </tr>\n",
       "  </thead>\n",
       "  <tbody>\n",
       "    <tr>\n",
       "      <th>0</th>\n",
       "      <td>count</td>\n",
       "      <td>1.073752e+06</td>\n",
       "    </tr>\n",
       "    <tr>\n",
       "      <th>1</th>\n",
       "      <td>mean</td>\n",
       "      <td>1.939330e+03</td>\n",
       "    </tr>\n",
       "    <tr>\n",
       "      <th>2</th>\n",
       "      <td>std</td>\n",
       "      <td>2.914270e+01</td>\n",
       "    </tr>\n",
       "    <tr>\n",
       "      <th>3</th>\n",
       "      <td>min</td>\n",
       "      <td>1.652000e+03</td>\n",
       "    </tr>\n",
       "    <tr>\n",
       "      <th>4</th>\n",
       "      <td>25%</td>\n",
       "      <td>1.920000e+03</td>\n",
       "    </tr>\n",
       "    <tr>\n",
       "      <th>5</th>\n",
       "      <td>50%</td>\n",
       "      <td>1.930000e+03</td>\n",
       "    </tr>\n",
       "    <tr>\n",
       "      <th>6</th>\n",
       "      <td>75%</td>\n",
       "      <td>1.955000e+03</td>\n",
       "    </tr>\n",
       "    <tr>\n",
       "      <th>7</th>\n",
       "      <td>max</td>\n",
       "      <td>2.022000e+03</td>\n",
       "    </tr>\n",
       "  </tbody>\n",
       "</table>\n",
       "</div>"
      ],
      "text/plain": [
       "  statistic    CNSTRCT_YR\n",
       "0     count  1.073752e+06\n",
       "1      mean  1.939330e+03\n",
       "2       std  2.914270e+01\n",
       "3       min  1.652000e+03\n",
       "4       25%  1.920000e+03\n",
       "5       50%  1.930000e+03\n",
       "6       75%  1.955000e+03\n",
       "7       max  2.022000e+03"
      ]
     },
     "execution_count": 35,
     "metadata": {},
     "output_type": "execute_result"
    }
   ],
   "source": [
    "# Descriptive statistics include those that summarize the central tendency, \n",
    "# dispersion and shape of a dataset's distribution, excluding ``NaN`` values.\n",
    "# reset index for readability.\n",
    "\n",
    "df = building_df['CNSTRCT_YR'].describe().reset_index()\n",
    "df = df.rename(columns={'index': \"statistic\"})\n",
    "\n",
    "df"
   ]
  },
  {
   "cell_type": "code",
   "execution_count": 36,
   "metadata": {},
   "outputs": [
    {
     "data": {
      "text/html": [
       "<div>\n",
       "<style scoped>\n",
       "    .dataframe tbody tr th:only-of-type {\n",
       "        vertical-align: middle;\n",
       "    }\n",
       "\n",
       "    .dataframe tbody tr th {\n",
       "        vertical-align: top;\n",
       "    }\n",
       "\n",
       "    .dataframe thead th {\n",
       "        text-align: right;\n",
       "    }\n",
       "</style>\n",
       "<table border=\"1\" class=\"dataframe\">\n",
       "  <thead>\n",
       "    <tr style=\"text-align: right;\">\n",
       "      <th></th>\n",
       "      <th>CNSTRCT_YR</th>\n",
       "    </tr>\n",
       "  </thead>\n",
       "  <tbody>\n",
       "    <tr>\n",
       "      <th>mode</th>\n",
       "      <td>1920.0</td>\n",
       "    </tr>\n",
       "  </tbody>\n",
       "</table>\n",
       "</div>"
      ],
      "text/plain": [
       "      CNSTRCT_YR\n",
       "mode      1920.0"
      ]
     },
     "execution_count": 36,
     "metadata": {},
     "output_type": "execute_result"
    }
   ],
   "source": [
    "# printing the mode of our 'CNSTRCT_YR' column\n",
    "mode = building_df[['CNSTRCT_YR']].mode()\n",
    "mode = mode.rename({0: \"mode\"})\n",
    "\n",
    "mode"
   ]
  },
  {
   "cell_type": "code",
   "execution_count": 37,
   "metadata": {},
   "outputs": [
    {
     "data": {
      "text/plain": [
       "True"
      ]
     },
     "execution_count": 37,
     "metadata": {},
     "output_type": "execute_result"
    }
   ],
   "source": [
    "# detecting any nulls in our 'CNSTRCT_YR' column\n",
    "building_df['CNSTRCT_YR'].isnull().values.any()"
   ]
  },
  {
   "cell_type": "code",
   "execution_count": 38,
   "metadata": {},
   "outputs": [
    {
     "data": {
      "text/plain": [
       "10827"
      ]
     },
     "execution_count": 38,
     "metadata": {},
     "output_type": "execute_result"
    }
   ],
   "source": [
    "# summing all the null values in our 'CNSTRCT_YR' column\n",
    "building_df['CNSTRCT_YR'].isnull().sum()"
   ]
  },
  {
   "cell_type": "code",
   "execution_count": 39,
   "metadata": {},
   "outputs": [
    {
     "data": {
      "text/plain": [
       "1073752"
      ]
     },
     "execution_count": 39,
     "metadata": {},
     "output_type": "execute_result"
    }
   ],
   "source": [
    "# summing all the not null values in our 'CNSTRCT_YR' column\n",
    "building_df['CNSTRCT_YR'].notnull().sum()"
   ]
  },
  {
   "cell_type": "code",
   "execution_count": 40,
   "metadata": {},
   "outputs": [
    {
     "name": "stdout",
     "output_type": "stream",
     "text": [
      "percent nulls: 1.0%\n"
     ]
    }
   ],
   "source": [
    "# printing the percent total of all the null values in our 'CNSTRCT_YR' column.\n",
    "nulls_sum = building_df['CNSTRCT_YR'].isna().sum() \n",
    "nulls_perc = round(nulls_sum / len(building_df) * 100, 2)\n",
    "\n",
    "print('percent nulls: {}%'.format(nulls_perc))"
   ]
  },
  {
   "cell_type": "code",
   "execution_count": 41,
   "metadata": {},
   "outputs": [
    {
     "name": "stdout",
     "output_type": "stream",
     "text": [
      "percent nulls: 99.0%\n"
     ]
    }
   ],
   "source": [
    "# printing the percent total of all the not null values in our 'CNSTRCT_YR' column.\n",
    "nonnulls_sum = building_df['CNSTRCT_YR'].notnull().sum() \n",
    "nonnulls_perc = round(nonnulls_sum / len(building_df) * 100, 2)\n",
    "\n",
    "print('percent nulls: {}%'.format(nonnulls_perc))"
   ]
  },
  {
   "cell_type": "markdown",
   "metadata": {},
   "source": [
    "## 4.2 Exploring Distribution of Values"
   ]
  },
  {
   "cell_type": "code",
   "execution_count": 42,
   "metadata": {},
   "outputs": [
    {
     "data": {
      "image/png": "[encoded data removed]",
      "text/plain": [
       "<Figure size 576x432 with 1 Axes>"
      ]
     },
     "metadata": {
      "needs_background": "light"
     },
     "output_type": "display_data"
    }
   ],
   "source": [
    "# making a histogram of our 'CNSTRCT_YR' column with 25 bins\n",
    "building_df['CNSTRCT_YR'].hist(figsize=(8, 6), bins=25)\n",
    "\n",
    "# adding labels\n",
    "plt.xlabel('Construction Year', fontsize=15)\n",
    "plt.ylabel('Counts', fontsize=15) \n",
    "plt.title('Histogram of Construction Year Values', fontsize=15) \n",
    "\n",
    "plt.tight_layout()"
   ]
  },
  {
   "cell_type": "code",
   "execution_count": 43,
   "metadata": {},
   "outputs": [
    {
     "data": {
      "image/png": "[encoded data removed]",
      "text/plain": [
       "<Figure size 576x432 with 1 Axes>"
      ]
     },
     "metadata": {
      "needs_background": "light"
     },
     "output_type": "display_data"
    }
   ],
   "source": [
    "# making a histogram of our 'CNSTRCT_YR' column with 50 bins\n",
    "building_df['CNSTRCT_YR'].hist(figsize=(8, 6), bins=50)\n",
    "\n",
    "plt.xlabel('Construction Year', fontsize=15)\n",
    "plt.ylabel('Counts', fontsize=15)\n",
    "plt.title('Histogram of Construction Year Values', fontsize=15)\n",
    "\n",
    "plt.tight_layout()"
   ]
  },
  {
   "cell_type": "code",
   "execution_count": 44,
   "metadata": {},
   "outputs": [
    {
     "name": "stdout",
     "output_type": "stream",
     "text": [
      "Skewness: 0.658\n",
      "Kurtosis: 0.668\n"
     ]
    }
   ],
   "source": [
    "# printing skewness and kurtosis\n",
    "print(\"Skewness: {:.3f}\".format(building_df['CNSTRCT_YR'].skew()))\n",
    "print(\"Kurtosis: {:.3f}\".format(building_df['CNSTRCT_YR'].kurt()))"
   ]
  },
  {
   "cell_type": "code",
   "execution_count": 45,
   "metadata": {},
   "outputs": [
    {
     "data": {
      "text/plain": [
       "1920.0    130738\n",
       "1930.0    112958\n",
       "1925.0    109403\n",
       "1950.0     62818\n",
       "1910.0     52563\n",
       "           ...  \n",
       "1789.0         1\n",
       "1690.0         1\n",
       "1680.0         1\n",
       "1719.0         1\n",
       "1792.0         1\n",
       "Name: CNSTRCT_YR, Length: 249, dtype: int64"
      ]
     },
     "execution_count": 45,
     "metadata": {},
     "output_type": "execute_result"
    }
   ],
   "source": [
    "# prints the counts of values in our 'CNSTRCT_YR' column in descending order\n",
    "building_df['CNSTRCT_YR'].value_counts()"
   ]
  },
  {
   "cell_type": "code",
   "execution_count": 46,
   "metadata": {},
   "outputs": [
    {
     "data": {
      "text/plain": [
       "1652.0       1\n",
       "1661.0       2\n",
       "1680.0       1\n",
       "1690.0       1\n",
       "1694.0       1\n",
       "          ... \n",
       "2018.0    2130\n",
       "2019.0    1100\n",
       "2020.0    1391\n",
       "2021.0    1230\n",
       "2022.0     235\n",
       "Name: CNSTRCT_YR, Length: 249, dtype: int64"
      ]
     },
     "execution_count": 46,
     "metadata": {},
     "output_type": "execute_result"
    }
   ],
   "source": [
    "# counts of values sorted by the index (in this case, year) ascending order\n",
    "building_df['CNSTRCT_YR'].value_counts().sort_index()"
   ]
  },
  {
   "cell_type": "code",
   "execution_count": 47,
   "metadata": {},
   "outputs": [
    {
     "data": {
      "text/plain": [
       "1652.0    1\n",
       "1661.0    2\n",
       "1680.0    1\n",
       "1690.0    1\n",
       "1694.0    1\n",
       "1706.0    2\n",
       "1719.0    1\n",
       "1720.0    1\n",
       "1722.0    1\n",
       "1725.0    1\n",
       "Name: CNSTRCT_YR, dtype: int64"
      ]
     },
     "execution_count": 47,
     "metadata": {},
     "output_type": "execute_result"
    }
   ],
   "source": [
    "# value counts of the first ten rows sorted by the index ascending order\n",
    "building_df['CNSTRCT_YR'].value_counts().sort_index(ascending=True).head(10)"
   ]
  },
  {
   "cell_type": "code",
   "execution_count": 48,
   "metadata": {},
   "outputs": [
    {
     "data": {
      "text/plain": [
       "2022.0     235\n",
       "2021.0    1230\n",
       "2020.0    1391\n",
       "2019.0    1100\n",
       "2018.0    2130\n",
       "2017.0    1922\n",
       "2016.0    1802\n",
       "2015.0    1082\n",
       "2014.0     851\n",
       "2013.0     904\n",
       "Name: CNSTRCT_YR, dtype: int64"
      ]
     },
     "execution_count": 48,
     "metadata": {},
     "output_type": "execute_result"
    }
   ],
   "source": [
    "# value counts of the first ten rows sorted by the index descending order\n",
    "building_df['CNSTRCT_YR'].value_counts().sort_index(ascending=False).head(10)"
   ]
  },
  {
   "cell_type": "markdown",
   "metadata": {},
   "source": [
    "## 4.3 Making a Box Plot"
   ]
  },
  {
   "cell_type": "code",
   "execution_count": 49,
   "metadata": {},
   "outputs": [
    {
     "data": {
      "text/html": [
       "<div>\n",
       "<style scoped>\n",
       "    .dataframe tbody tr th:only-of-type {\n",
       "        vertical-align: middle;\n",
       "    }\n",
       "\n",
       "    .dataframe tbody tr th {\n",
       "        vertical-align: top;\n",
       "    }\n",
       "\n",
       "    .dataframe thead th {\n",
       "        text-align: right;\n",
       "    }\n",
       "</style>\n",
       "<table border=\"1\" class=\"dataframe\">\n",
       "  <thead>\n",
       "    <tr style=\"text-align: right;\">\n",
       "      <th></th>\n",
       "      <th>the_geom</th>\n",
       "      <th>NAME</th>\n",
       "      <th>BIN</th>\n",
       "      <th>CNSTRCT_YR</th>\n",
       "      <th>LSTMODDATE</th>\n",
       "      <th>LSTSTATYPE</th>\n",
       "      <th>DOITT_ID</th>\n",
       "      <th>HEIGHTROOF</th>\n",
       "      <th>FEAT_CODE</th>\n",
       "      <th>GROUNDELEV</th>\n",
       "      <th>SHAPE_AREA</th>\n",
       "      <th>SHAPE_LEN</th>\n",
       "      <th>BASE_BBL</th>\n",
       "      <th>MPLUTO_BBL</th>\n",
       "      <th>GEOMSOURCE</th>\n",
       "    </tr>\n",
       "  </thead>\n",
       "  <tbody>\n",
       "    <tr>\n",
       "      <th>0</th>\n",
       "      <td>MULTIPOLYGON (((-73.96664570466969 40.62599676...</td>\n",
       "      <td>NaN</td>\n",
       "      <td>3170958</td>\n",
       "      <td>1925.0</td>\n",
       "      <td>08/22/2017 12:00:00 AM</td>\n",
       "      <td>Constructed</td>\n",
       "      <td>96807</td>\n",
       "      <td>29.749853</td>\n",
       "      <td>2100.0</td>\n",
       "      <td>40.0</td>\n",
       "      <td>0</td>\n",
       "      <td>0</td>\n",
       "      <td>3.065220e+09</td>\n",
       "      <td>3.065220e+09</td>\n",
       "      <td>Photogramm</td>\n",
       "    </tr>\n",
       "    <tr>\n",
       "      <th>1</th>\n",
       "      <td>MULTIPOLYGON (((-74.16790202462265 40.63936048...</td>\n",
       "      <td>NaN</td>\n",
       "      <td>5028452</td>\n",
       "      <td>1965.0</td>\n",
       "      <td>08/22/2017 12:00:00 AM</td>\n",
       "      <td>Constructed</td>\n",
       "      <td>326368</td>\n",
       "      <td>22.630000</td>\n",
       "      <td>2100.0</td>\n",
       "      <td>39.0</td>\n",
       "      <td>0</td>\n",
       "      <td>0</td>\n",
       "      <td>5.012640e+09</td>\n",
       "      <td>5.012640e+09</td>\n",
       "      <td>Photogramm</td>\n",
       "    </tr>\n",
       "    <tr>\n",
       "      <th>2</th>\n",
       "      <td>MULTIPOLYGON (((-74.19510813278613 40.55610681...</td>\n",
       "      <td>NaN</td>\n",
       "      <td>5078368</td>\n",
       "      <td>1970.0</td>\n",
       "      <td>08/22/2017 12:00:00 AM</td>\n",
       "      <td>Constructed</td>\n",
       "      <td>746627</td>\n",
       "      <td>35.760000</td>\n",
       "      <td>2100.0</td>\n",
       "      <td>51.0</td>\n",
       "      <td>0</td>\n",
       "      <td>0</td>\n",
       "      <td>5.060190e+09</td>\n",
       "      <td>5.060190e+09</td>\n",
       "      <td>Photogramm</td>\n",
       "    </tr>\n",
       "    <tr>\n",
       "      <th>3</th>\n",
       "      <td>MULTIPOLYGON (((-73.96113466505085 40.57743931...</td>\n",
       "      <td>NaN</td>\n",
       "      <td>3245111</td>\n",
       "      <td>1928.0</td>\n",
       "      <td>08/22/2017 12:00:00 AM</td>\n",
       "      <td>Constructed</td>\n",
       "      <td>786626</td>\n",
       "      <td>37.500000</td>\n",
       "      <td>2100.0</td>\n",
       "      <td>6.0</td>\n",
       "      <td>0</td>\n",
       "      <td>0</td>\n",
       "      <td>3.086910e+09</td>\n",
       "      <td>3.086910e+09</td>\n",
       "      <td>Photogramm</td>\n",
       "    </tr>\n",
       "    <tr>\n",
       "      <th>4</th>\n",
       "      <td>MULTIPOLYGON (((-73.75421559146166 40.75591276...</td>\n",
       "      <td>NaN</td>\n",
       "      <td>4161096</td>\n",
       "      <td>1950.0</td>\n",
       "      <td>08/22/2017 12:00:00 AM</td>\n",
       "      <td>Constructed</td>\n",
       "      <td>746409</td>\n",
       "      <td>18.015113</td>\n",
       "      <td>2100.0</td>\n",
       "      <td>93.0</td>\n",
       "      <td>0</td>\n",
       "      <td>0</td>\n",
       "      <td>4.075020e+09</td>\n",
       "      <td>4.075020e+09</td>\n",
       "      <td>Photogramm</td>\n",
       "    </tr>\n",
       "  </tbody>\n",
       "</table>\n",
       "</div>"
      ],
      "text/plain": [
       "                                            the_geom NAME      BIN  \\\n",
       "0  MULTIPOLYGON (((-73.96664570466969 40.62599676...  NaN  3170958   \n",
       "1  MULTIPOLYGON (((-74.16790202462265 40.63936048...  NaN  5028452   \n",
       "2  MULTIPOLYGON (((-74.19510813278613 40.55610681...  NaN  5078368   \n",
       "3  MULTIPOLYGON (((-73.96113466505085 40.57743931...  NaN  3245111   \n",
       "4  MULTIPOLYGON (((-73.75421559146166 40.75591276...  NaN  4161096   \n",
       "\n",
       "   CNSTRCT_YR              LSTMODDATE   LSTSTATYPE  DOITT_ID  HEIGHTROOF  \\\n",
       "0      1925.0  08/22/2017 12:00:00 AM  Constructed     96807   29.749853   \n",
       "1      1965.0  08/22/2017 12:00:00 AM  Constructed    326368   22.630000   \n",
       "2      1970.0  08/22/2017 12:00:00 AM  Constructed    746627   35.760000   \n",
       "3      1928.0  08/22/2017 12:00:00 AM  Constructed    786626   37.500000   \n",
       "4      1950.0  08/22/2017 12:00:00 AM  Constructed    746409   18.015113   \n",
       "\n",
       "   FEAT_CODE  GROUNDELEV  SHAPE_AREA  SHAPE_LEN      BASE_BBL    MPLUTO_BBL  \\\n",
       "0     2100.0        40.0           0          0  3.065220e+09  3.065220e+09   \n",
       "1     2100.0        39.0           0          0  5.012640e+09  5.012640e+09   \n",
       "2     2100.0        51.0           0          0  5.060190e+09  5.060190e+09   \n",
       "3     2100.0         6.0           0          0  3.086910e+09  3.086910e+09   \n",
       "4     2100.0        93.0           0          0  4.075020e+09  4.075020e+09   \n",
       "\n",
       "   GEOMSOURCE  \n",
       "0  Photogramm  \n",
       "1  Photogramm  \n",
       "2  Photogramm  \n",
       "3  Photogramm  \n",
       "4  Photogramm  "
      ]
     },
     "execution_count": 49,
     "metadata": {},
     "output_type": "execute_result"
    }
   ],
   "source": [
    "# previewing the first five rows\n",
    "building_df.head()"
   ]
  },
  {
   "cell_type": "code",
   "execution_count": 50,
   "metadata": {
    "scrolled": false
   },
   "outputs": [
    {
     "data": {
      "image/png": "[encoded data removed]",
      "text/plain": [
       "<Figure size 576x432 with 1 Axes>"
      ]
     },
     "metadata": {
      "needs_background": "light"
     },
     "output_type": "display_data"
    }
   ],
   "source": [
    "# making a box plot from our 'CNSTRCT_YR' column\n",
    "building_df.boxplot(column=['CNSTRCT_YR'], figsize=(8,6))\n",
    "plt.title('Box Plot of Construction Year Value', fontsize=13)\n",
    "\n",
    "plt.tight_layout()"
   ]
  },
  {
   "cell_type": "markdown",
   "metadata": {},
   "source": [
    "## 4.4 Calculating Interquartile Range (IQR)"
   ]
  },
  {
   "cell_type": "code",
   "execution_count": 51,
   "metadata": {},
   "outputs": [
    {
     "name": "stdout",
     "output_type": "stream",
     "text": [
      "1920.0\n",
      "1955.0\n"
     ]
    }
   ],
   "source": [
    "# printing the 25% and 75% quantiles of our 'CNSTRCT_YR' column\n",
    "print(building_df['CNSTRCT_YR'].quantile(0.25))\n",
    "print(building_df['CNSTRCT_YR'].quantile(0.75))"
   ]
  },
  {
   "cell_type": "code",
   "execution_count": 52,
   "metadata": {},
   "outputs": [
    {
     "data": {
      "text/plain": [
       "35.0"
      ]
     },
     "execution_count": 52,
     "metadata": {},
     "output_type": "execute_result"
    }
   ],
   "source": [
    "# saving the 25% (i.e. Q1) and 75% (i.e. Q3) quantiles of our 'CNSTRCT_YR' column\n",
    "Q1 = building_df['CNSTRCT_YR'].quantile(0.25)\n",
    "Q3 = building_df['CNSTRCT_YR'].quantile(0.75)\n",
    "\n",
    "# Computing the interquartile range (IQR)\n",
    "IQR = Q3 - Q1\n",
    "\n",
    "# printing the IQR of our 'CNSTRCT_YR' column\n",
    "IQR"
   ]
  },
  {
   "cell_type": "code",
   "execution_count": 53,
   "metadata": {},
   "outputs": [
    {
     "name": "stdout",
     "output_type": "stream",
     "text": [
      "1867.5\n",
      "2007.5\n"
     ]
    }
   ],
   "source": [
    "# printing the lower 1.5*IQR whisker = Q1 - 1.5 * IQR\n",
    "print((Q1 - 1.5 * IQR))\n",
    "\n",
    "# printing the upper 1.5*IQR whisker = Q1 - 1.5 * IQR\n",
    "print((Q3 + 1.5 * IQR))"
   ]
  },
  {
   "cell_type": "markdown",
   "metadata": {},
   "source": [
    "## 4.5 Dropping Null Values for CNSTRCT_YR"
   ]
  },
  {
   "cell_type": "code",
   "execution_count": 54,
   "metadata": {},
   "outputs": [
    {
     "data": {
      "text/plain": [
       "1084579"
      ]
     },
     "execution_count": 54,
     "metadata": {},
     "output_type": "execute_result"
    }
   ],
   "source": [
    "# print number of rows\n",
    "len(building_df)"
   ]
  },
  {
   "cell_type": "code",
   "execution_count": 55,
   "metadata": {},
   "outputs": [
    {
     "data": {
      "text/plain": [
       "1073752"
      ]
     },
     "execution_count": 55,
     "metadata": {},
     "output_type": "execute_result"
    }
   ],
   "source": [
    "# drop nan in 'CNSTRCT_YR' and then print number of rows \n",
    "len(building_df.dropna(subset=['CNSTRCT_YR']))"
   ]
  },
  {
   "cell_type": "code",
   "execution_count": 56,
   "metadata": {},
   "outputs": [
    {
     "data": {
      "text/plain": [
       "10827"
      ]
     },
     "execution_count": 56,
     "metadata": {},
     "output_type": "execute_result"
    }
   ],
   "source": [
    "# print number of dropped records where 'CNSTRCT_YR' is nan \n",
    "building_df['CNSTRCT_YR'].isnull().sum()"
   ]
  },
  {
   "cell_type": "code",
   "execution_count": 57,
   "metadata": {
    "scrolled": true
   },
   "outputs": [
    {
     "name": "stdout",
     "output_type": "stream",
     "text": [
      "1073752\n"
     ]
    }
   ],
   "source": [
    "# dropping all records where 'CNSTRCT_YR' as nan\n",
    "building_df_dropna = building_df.dropna(subset=['CNSTRCT_YR'])\n",
    "\n",
    "# printing number of records\n",
    "print(len(building_df_dropna))"
   ]
  },
  {
   "cell_type": "code",
   "execution_count": 58,
   "metadata": {},
   "outputs": [
    {
     "name": "stdout",
     "output_type": "stream",
     "text": [
      "number of nulls for CNSTRCT_YR after dropping nulls: 0\n"
     ]
    }
   ],
   "source": [
    "counts = building_df_dropna['CNSTRCT_YR'].isnull().sum()\n",
    "\n",
    "print('number of nulls for CNSTRCT_YR after dropping nulls: {}'.format(counts))"
   ]
  },
  {
   "cell_type": "code",
   "execution_count": 59,
   "metadata": {},
   "outputs": [
    {
     "data": {
      "text/html": [
       "<div>\n",
       "<style scoped>\n",
       "    .dataframe tbody tr th:only-of-type {\n",
       "        vertical-align: middle;\n",
       "    }\n",
       "\n",
       "    .dataframe tbody tr th {\n",
       "        vertical-align: top;\n",
       "    }\n",
       "\n",
       "    .dataframe thead th {\n",
       "        text-align: right;\n",
       "    }\n",
       "</style>\n",
       "<table border=\"1\" class=\"dataframe\">\n",
       "  <thead>\n",
       "    <tr style=\"text-align: right;\">\n",
       "      <th></th>\n",
       "      <th>the_geom</th>\n",
       "      <th>NAME</th>\n",
       "      <th>BIN</th>\n",
       "      <th>CNSTRCT_YR</th>\n",
       "      <th>LSTMODDATE</th>\n",
       "      <th>LSTSTATYPE</th>\n",
       "      <th>DOITT_ID</th>\n",
       "      <th>HEIGHTROOF</th>\n",
       "      <th>FEAT_CODE</th>\n",
       "      <th>GROUNDELEV</th>\n",
       "      <th>SHAPE_AREA</th>\n",
       "      <th>SHAPE_LEN</th>\n",
       "      <th>BASE_BBL</th>\n",
       "      <th>MPLUTO_BBL</th>\n",
       "      <th>GEOMSOURCE</th>\n",
       "    </tr>\n",
       "  </thead>\n",
       "  <tbody>\n",
       "    <tr>\n",
       "      <th>0</th>\n",
       "      <td>MULTIPOLYGON (((-73.96664570466969 40.62599676...</td>\n",
       "      <td>NaN</td>\n",
       "      <td>3170958</td>\n",
       "      <td>1925.0</td>\n",
       "      <td>08/22/2017 12:00:00 AM</td>\n",
       "      <td>Constructed</td>\n",
       "      <td>96807</td>\n",
       "      <td>29.749853</td>\n",
       "      <td>2100.0</td>\n",
       "      <td>40.0</td>\n",
       "      <td>0</td>\n",
       "      <td>0</td>\n",
       "      <td>3.065220e+09</td>\n",
       "      <td>3.065220e+09</td>\n",
       "      <td>Photogramm</td>\n",
       "    </tr>\n",
       "    <tr>\n",
       "      <th>1</th>\n",
       "      <td>MULTIPOLYGON (((-74.16790202462265 40.63936048...</td>\n",
       "      <td>NaN</td>\n",
       "      <td>5028452</td>\n",
       "      <td>1965.0</td>\n",
       "      <td>08/22/2017 12:00:00 AM</td>\n",
       "      <td>Constructed</td>\n",
       "      <td>326368</td>\n",
       "      <td>22.630000</td>\n",
       "      <td>2100.0</td>\n",
       "      <td>39.0</td>\n",
       "      <td>0</td>\n",
       "      <td>0</td>\n",
       "      <td>5.012640e+09</td>\n",
       "      <td>5.012640e+09</td>\n",
       "      <td>Photogramm</td>\n",
       "    </tr>\n",
       "    <tr>\n",
       "      <th>2</th>\n",
       "      <td>MULTIPOLYGON (((-74.19510813278613 40.55610681...</td>\n",
       "      <td>NaN</td>\n",
       "      <td>5078368</td>\n",
       "      <td>1970.0</td>\n",
       "      <td>08/22/2017 12:00:00 AM</td>\n",
       "      <td>Constructed</td>\n",
       "      <td>746627</td>\n",
       "      <td>35.760000</td>\n",
       "      <td>2100.0</td>\n",
       "      <td>51.0</td>\n",
       "      <td>0</td>\n",
       "      <td>0</td>\n",
       "      <td>5.060190e+09</td>\n",
       "      <td>5.060190e+09</td>\n",
       "      <td>Photogramm</td>\n",
       "    </tr>\n",
       "    <tr>\n",
       "      <th>3</th>\n",
       "      <td>MULTIPOLYGON (((-73.96113466505085 40.57743931...</td>\n",
       "      <td>NaN</td>\n",
       "      <td>3245111</td>\n",
       "      <td>1928.0</td>\n",
       "      <td>08/22/2017 12:00:00 AM</td>\n",
       "      <td>Constructed</td>\n",
       "      <td>786626</td>\n",
       "      <td>37.500000</td>\n",
       "      <td>2100.0</td>\n",
       "      <td>6.0</td>\n",
       "      <td>0</td>\n",
       "      <td>0</td>\n",
       "      <td>3.086910e+09</td>\n",
       "      <td>3.086910e+09</td>\n",
       "      <td>Photogramm</td>\n",
       "    </tr>\n",
       "    <tr>\n",
       "      <th>4</th>\n",
       "      <td>MULTIPOLYGON (((-73.75421559146166 40.75591276...</td>\n",
       "      <td>NaN</td>\n",
       "      <td>4161096</td>\n",
       "      <td>1950.0</td>\n",
       "      <td>08/22/2017 12:00:00 AM</td>\n",
       "      <td>Constructed</td>\n",
       "      <td>746409</td>\n",
       "      <td>18.015113</td>\n",
       "      <td>2100.0</td>\n",
       "      <td>93.0</td>\n",
       "      <td>0</td>\n",
       "      <td>0</td>\n",
       "      <td>4.075020e+09</td>\n",
       "      <td>4.075020e+09</td>\n",
       "      <td>Photogramm</td>\n",
       "    </tr>\n",
       "  </tbody>\n",
       "</table>\n",
       "</div>"
      ],
      "text/plain": [
       "                                            the_geom NAME      BIN  \\\n",
       "0  MULTIPOLYGON (((-73.96664570466969 40.62599676...  NaN  3170958   \n",
       "1  MULTIPOLYGON (((-74.16790202462265 40.63936048...  NaN  5028452   \n",
       "2  MULTIPOLYGON (((-74.19510813278613 40.55610681...  NaN  5078368   \n",
       "3  MULTIPOLYGON (((-73.96113466505085 40.57743931...  NaN  3245111   \n",
       "4  MULTIPOLYGON (((-73.75421559146166 40.75591276...  NaN  4161096   \n",
       "\n",
       "   CNSTRCT_YR              LSTMODDATE   LSTSTATYPE  DOITT_ID  HEIGHTROOF  \\\n",
       "0      1925.0  08/22/2017 12:00:00 AM  Constructed     96807   29.749853   \n",
       "1      1965.0  08/22/2017 12:00:00 AM  Constructed    326368   22.630000   \n",
       "2      1970.0  08/22/2017 12:00:00 AM  Constructed    746627   35.760000   \n",
       "3      1928.0  08/22/2017 12:00:00 AM  Constructed    786626   37.500000   \n",
       "4      1950.0  08/22/2017 12:00:00 AM  Constructed    746409   18.015113   \n",
       "\n",
       "   FEAT_CODE  GROUNDELEV  SHAPE_AREA  SHAPE_LEN      BASE_BBL    MPLUTO_BBL  \\\n",
       "0     2100.0        40.0           0          0  3.065220e+09  3.065220e+09   \n",
       "1     2100.0        39.0           0          0  5.012640e+09  5.012640e+09   \n",
       "2     2100.0        51.0           0          0  5.060190e+09  5.060190e+09   \n",
       "3     2100.0         6.0           0          0  3.086910e+09  3.086910e+09   \n",
       "4     2100.0        93.0           0          0  4.075020e+09  4.075020e+09   \n",
       "\n",
       "   GEOMSOURCE  \n",
       "0  Photogramm  \n",
       "1  Photogramm  \n",
       "2  Photogramm  \n",
       "3  Photogramm  \n",
       "4  Photogramm  "
      ]
     },
     "execution_count": 59,
     "metadata": {},
     "output_type": "execute_result"
    }
   ],
   "source": [
    "# preview first five rows\n",
    "building_df_dropna.head()"
   ]
  },
  {
   "cell_type": "code",
   "execution_count": 60,
   "metadata": {},
   "outputs": [
    {
     "data": {
      "image/png": "[encoded data removed]",
      "text/plain": [
       "<Figure size 576x432 with 1 Axes>"
      ]
     },
     "metadata": {
      "needs_background": "light"
     },
     "output_type": "display_data"
    }
   ],
   "source": [
    "# making a histogram of our 'CNSTRCT_YR' column with 10 bins\n",
    "building_df_dropna['CNSTRCT_YR'].hist(bins=10, figsize=(8, 6))\n",
    "\n",
    "plt.xlabel('Construction Year', fontsize=10)\n",
    "plt.ylabel('Counts', fontsize=10)\n",
    "plt.title('Histogram of Construction Year Values Excluding Nulls', fontsize=10)\n",
    "\n",
    "plt.tight_layout()"
   ]
  },
  {
   "cell_type": "markdown",
   "metadata": {},
   "source": [
    "## 4.6 Filling In Null/NA Values With Median for CNSTRCT_YR"
   ]
  },
  {
   "cell_type": "code",
   "execution_count": 61,
   "metadata": {},
   "outputs": [
    {
     "data": {
      "text/html": [
       "<div>\n",
       "<style scoped>\n",
       "    .dataframe tbody tr th:only-of-type {\n",
       "        vertical-align: middle;\n",
       "    }\n",
       "\n",
       "    .dataframe tbody tr th {\n",
       "        vertical-align: top;\n",
       "    }\n",
       "\n",
       "    .dataframe thead th {\n",
       "        text-align: right;\n",
       "    }\n",
       "</style>\n",
       "<table border=\"1\" class=\"dataframe\">\n",
       "  <thead>\n",
       "    <tr style=\"text-align: right;\">\n",
       "      <th></th>\n",
       "      <th>the_geom</th>\n",
       "      <th>NAME</th>\n",
       "      <th>BIN</th>\n",
       "      <th>CNSTRCT_YR</th>\n",
       "      <th>LSTMODDATE</th>\n",
       "      <th>LSTSTATYPE</th>\n",
       "      <th>DOITT_ID</th>\n",
       "      <th>HEIGHTROOF</th>\n",
       "      <th>FEAT_CODE</th>\n",
       "      <th>GROUNDELEV</th>\n",
       "      <th>SHAPE_AREA</th>\n",
       "      <th>SHAPE_LEN</th>\n",
       "      <th>BASE_BBL</th>\n",
       "      <th>MPLUTO_BBL</th>\n",
       "      <th>GEOMSOURCE</th>\n",
       "    </tr>\n",
       "  </thead>\n",
       "  <tbody>\n",
       "    <tr>\n",
       "      <th>0</th>\n",
       "      <td>MULTIPOLYGON (((-73.96664570466969 40.62599676...</td>\n",
       "      <td>NaN</td>\n",
       "      <td>3170958</td>\n",
       "      <td>1925.0</td>\n",
       "      <td>08/22/2017 12:00:00 AM</td>\n",
       "      <td>Constructed</td>\n",
       "      <td>96807</td>\n",
       "      <td>29.749853</td>\n",
       "      <td>2100.0</td>\n",
       "      <td>40.0</td>\n",
       "      <td>0</td>\n",
       "      <td>0</td>\n",
       "      <td>3.065220e+09</td>\n",
       "      <td>3.065220e+09</td>\n",
       "      <td>Photogramm</td>\n",
       "    </tr>\n",
       "    <tr>\n",
       "      <th>1</th>\n",
       "      <td>MULTIPOLYGON (((-74.16790202462265 40.63936048...</td>\n",
       "      <td>NaN</td>\n",
       "      <td>5028452</td>\n",
       "      <td>1965.0</td>\n",
       "      <td>08/22/2017 12:00:00 AM</td>\n",
       "      <td>Constructed</td>\n",
       "      <td>326368</td>\n",
       "      <td>22.630000</td>\n",
       "      <td>2100.0</td>\n",
       "      <td>39.0</td>\n",
       "      <td>0</td>\n",
       "      <td>0</td>\n",
       "      <td>5.012640e+09</td>\n",
       "      <td>5.012640e+09</td>\n",
       "      <td>Photogramm</td>\n",
       "    </tr>\n",
       "    <tr>\n",
       "      <th>2</th>\n",
       "      <td>MULTIPOLYGON (((-74.19510813278613 40.55610681...</td>\n",
       "      <td>NaN</td>\n",
       "      <td>5078368</td>\n",
       "      <td>1970.0</td>\n",
       "      <td>08/22/2017 12:00:00 AM</td>\n",
       "      <td>Constructed</td>\n",
       "      <td>746627</td>\n",
       "      <td>35.760000</td>\n",
       "      <td>2100.0</td>\n",
       "      <td>51.0</td>\n",
       "      <td>0</td>\n",
       "      <td>0</td>\n",
       "      <td>5.060190e+09</td>\n",
       "      <td>5.060190e+09</td>\n",
       "      <td>Photogramm</td>\n",
       "    </tr>\n",
       "    <tr>\n",
       "      <th>3</th>\n",
       "      <td>MULTIPOLYGON (((-73.96113466505085 40.57743931...</td>\n",
       "      <td>NaN</td>\n",
       "      <td>3245111</td>\n",
       "      <td>1928.0</td>\n",
       "      <td>08/22/2017 12:00:00 AM</td>\n",
       "      <td>Constructed</td>\n",
       "      <td>786626</td>\n",
       "      <td>37.500000</td>\n",
       "      <td>2100.0</td>\n",
       "      <td>6.0</td>\n",
       "      <td>0</td>\n",
       "      <td>0</td>\n",
       "      <td>3.086910e+09</td>\n",
       "      <td>3.086910e+09</td>\n",
       "      <td>Photogramm</td>\n",
       "    </tr>\n",
       "    <tr>\n",
       "      <th>4</th>\n",
       "      <td>MULTIPOLYGON (((-73.75421559146166 40.75591276...</td>\n",
       "      <td>NaN</td>\n",
       "      <td>4161096</td>\n",
       "      <td>1950.0</td>\n",
       "      <td>08/22/2017 12:00:00 AM</td>\n",
       "      <td>Constructed</td>\n",
       "      <td>746409</td>\n",
       "      <td>18.015113</td>\n",
       "      <td>2100.0</td>\n",
       "      <td>93.0</td>\n",
       "      <td>0</td>\n",
       "      <td>0</td>\n",
       "      <td>4.075020e+09</td>\n",
       "      <td>4.075020e+09</td>\n",
       "      <td>Photogramm</td>\n",
       "    </tr>\n",
       "  </tbody>\n",
       "</table>\n",
       "</div>"
      ],
      "text/plain": [
       "                                            the_geom NAME      BIN  \\\n",
       "0  MULTIPOLYGON (((-73.96664570466969 40.62599676...  NaN  3170958   \n",
       "1  MULTIPOLYGON (((-74.16790202462265 40.63936048...  NaN  5028452   \n",
       "2  MULTIPOLYGON (((-74.19510813278613 40.55610681...  NaN  5078368   \n",
       "3  MULTIPOLYGON (((-73.96113466505085 40.57743931...  NaN  3245111   \n",
       "4  MULTIPOLYGON (((-73.75421559146166 40.75591276...  NaN  4161096   \n",
       "\n",
       "   CNSTRCT_YR              LSTMODDATE   LSTSTATYPE  DOITT_ID  HEIGHTROOF  \\\n",
       "0      1925.0  08/22/2017 12:00:00 AM  Constructed     96807   29.749853   \n",
       "1      1965.0  08/22/2017 12:00:00 AM  Constructed    326368   22.630000   \n",
       "2      1970.0  08/22/2017 12:00:00 AM  Constructed    746627   35.760000   \n",
       "3      1928.0  08/22/2017 12:00:00 AM  Constructed    786626   37.500000   \n",
       "4      1950.0  08/22/2017 12:00:00 AM  Constructed    746409   18.015113   \n",
       "\n",
       "   FEAT_CODE  GROUNDELEV  SHAPE_AREA  SHAPE_LEN      BASE_BBL    MPLUTO_BBL  \\\n",
       "0     2100.0        40.0           0          0  3.065220e+09  3.065220e+09   \n",
       "1     2100.0        39.0           0          0  5.012640e+09  5.012640e+09   \n",
       "2     2100.0        51.0           0          0  5.060190e+09  5.060190e+09   \n",
       "3     2100.0         6.0           0          0  3.086910e+09  3.086910e+09   \n",
       "4     2100.0        93.0           0          0  4.075020e+09  4.075020e+09   \n",
       "\n",
       "   GEOMSOURCE  \n",
       "0  Photogramm  \n",
       "1  Photogramm  \n",
       "2  Photogramm  \n",
       "3  Photogramm  \n",
       "4  Photogramm  "
      ]
     },
     "execution_count": 61,
     "metadata": {},
     "output_type": "execute_result"
    }
   ],
   "source": [
    "# preview first five rows\n",
    "building_df.head()"
   ]
  },
  {
   "cell_type": "code",
   "execution_count": 62,
   "metadata": {},
   "outputs": [
    {
     "name": "stdout",
     "output_type": "stream",
     "text": [
      "number of nulls for CNSTRCT_YR: 10,827\n"
     ]
    }
   ],
   "source": [
    "# saving a new dataframe to fill nans with the median value of 'CNSTRCT_YR'\n",
    "building_df_fillna = building_df.copy()\n",
    "\n",
    "counts = building_df_fillna['CNSTRCT_YR'].isnull().sum()\n",
    "print('number of nulls for CNSTRCT_YR: {:,}'.format(counts))"
   ]
  },
  {
   "cell_type": "code",
   "execution_count": 63,
   "metadata": {},
   "outputs": [
    {
     "name": "stdout",
     "output_type": "stream",
     "text": [
      "median value of CNSTRCT_YR: 1930.0\n"
     ]
    }
   ],
   "source": [
    "median = building_df_fillna['CNSTRCT_YR'].median()\n",
    "\n",
    "print('median value of CNSTRCT_YR: {}'.format(median))"
   ]
  },
  {
   "cell_type": "code",
   "execution_count": 64,
   "metadata": {},
   "outputs": [
    {
     "data": {
      "text/html": [
       "<div>\n",
       "<style scoped>\n",
       "    .dataframe tbody tr th:only-of-type {\n",
       "        vertical-align: middle;\n",
       "    }\n",
       "\n",
       "    .dataframe tbody tr th {\n",
       "        vertical-align: top;\n",
       "    }\n",
       "\n",
       "    .dataframe thead th {\n",
       "        text-align: right;\n",
       "    }\n",
       "</style>\n",
       "<table border=\"1\" class=\"dataframe\">\n",
       "  <thead>\n",
       "    <tr style=\"text-align: right;\">\n",
       "      <th></th>\n",
       "      <th>the_geom</th>\n",
       "      <th>NAME</th>\n",
       "      <th>BIN</th>\n",
       "      <th>CNSTRCT_YR</th>\n",
       "      <th>LSTMODDATE</th>\n",
       "      <th>LSTSTATYPE</th>\n",
       "      <th>DOITT_ID</th>\n",
       "      <th>HEIGHTROOF</th>\n",
       "      <th>FEAT_CODE</th>\n",
       "      <th>GROUNDELEV</th>\n",
       "      <th>SHAPE_AREA</th>\n",
       "      <th>SHAPE_LEN</th>\n",
       "      <th>BASE_BBL</th>\n",
       "      <th>MPLUTO_BBL</th>\n",
       "      <th>GEOMSOURCE</th>\n",
       "    </tr>\n",
       "  </thead>\n",
       "  <tbody>\n",
       "    <tr>\n",
       "      <th>0</th>\n",
       "      <td>MULTIPOLYGON (((-73.96664570466969 40.62599676...</td>\n",
       "      <td>NaN</td>\n",
       "      <td>3170958</td>\n",
       "      <td>1925.0</td>\n",
       "      <td>08/22/2017 12:00:00 AM</td>\n",
       "      <td>Constructed</td>\n",
       "      <td>96807</td>\n",
       "      <td>29.749853</td>\n",
       "      <td>2100.0</td>\n",
       "      <td>40.0</td>\n",
       "      <td>0</td>\n",
       "      <td>0</td>\n",
       "      <td>3.065220e+09</td>\n",
       "      <td>3.065220e+09</td>\n",
       "      <td>Photogramm</td>\n",
       "    </tr>\n",
       "    <tr>\n",
       "      <th>1</th>\n",
       "      <td>MULTIPOLYGON (((-74.16790202462265 40.63936048...</td>\n",
       "      <td>NaN</td>\n",
       "      <td>5028452</td>\n",
       "      <td>1965.0</td>\n",
       "      <td>08/22/2017 12:00:00 AM</td>\n",
       "      <td>Constructed</td>\n",
       "      <td>326368</td>\n",
       "      <td>22.630000</td>\n",
       "      <td>2100.0</td>\n",
       "      <td>39.0</td>\n",
       "      <td>0</td>\n",
       "      <td>0</td>\n",
       "      <td>5.012640e+09</td>\n",
       "      <td>5.012640e+09</td>\n",
       "      <td>Photogramm</td>\n",
       "    </tr>\n",
       "    <tr>\n",
       "      <th>2</th>\n",
       "      <td>MULTIPOLYGON (((-74.19510813278613 40.55610681...</td>\n",
       "      <td>NaN</td>\n",
       "      <td>5078368</td>\n",
       "      <td>1970.0</td>\n",
       "      <td>08/22/2017 12:00:00 AM</td>\n",
       "      <td>Constructed</td>\n",
       "      <td>746627</td>\n",
       "      <td>35.760000</td>\n",
       "      <td>2100.0</td>\n",
       "      <td>51.0</td>\n",
       "      <td>0</td>\n",
       "      <td>0</td>\n",
       "      <td>5.060190e+09</td>\n",
       "      <td>5.060190e+09</td>\n",
       "      <td>Photogramm</td>\n",
       "    </tr>\n",
       "    <tr>\n",
       "      <th>3</th>\n",
       "      <td>MULTIPOLYGON (((-73.96113466505085 40.57743931...</td>\n",
       "      <td>NaN</td>\n",
       "      <td>3245111</td>\n",
       "      <td>1928.0</td>\n",
       "      <td>08/22/2017 12:00:00 AM</td>\n",
       "      <td>Constructed</td>\n",
       "      <td>786626</td>\n",
       "      <td>37.500000</td>\n",
       "      <td>2100.0</td>\n",
       "      <td>6.0</td>\n",
       "      <td>0</td>\n",
       "      <td>0</td>\n",
       "      <td>3.086910e+09</td>\n",
       "      <td>3.086910e+09</td>\n",
       "      <td>Photogramm</td>\n",
       "    </tr>\n",
       "    <tr>\n",
       "      <th>4</th>\n",
       "      <td>MULTIPOLYGON (((-73.75421559146166 40.75591276...</td>\n",
       "      <td>NaN</td>\n",
       "      <td>4161096</td>\n",
       "      <td>1950.0</td>\n",
       "      <td>08/22/2017 12:00:00 AM</td>\n",
       "      <td>Constructed</td>\n",
       "      <td>746409</td>\n",
       "      <td>18.015113</td>\n",
       "      <td>2100.0</td>\n",
       "      <td>93.0</td>\n",
       "      <td>0</td>\n",
       "      <td>0</td>\n",
       "      <td>4.075020e+09</td>\n",
       "      <td>4.075020e+09</td>\n",
       "      <td>Photogramm</td>\n",
       "    </tr>\n",
       "  </tbody>\n",
       "</table>\n",
       "</div>"
      ],
      "text/plain": [
       "                                            the_geom NAME      BIN  \\\n",
       "0  MULTIPOLYGON (((-73.96664570466969 40.62599676...  NaN  3170958   \n",
       "1  MULTIPOLYGON (((-74.16790202462265 40.63936048...  NaN  5028452   \n",
       "2  MULTIPOLYGON (((-74.19510813278613 40.55610681...  NaN  5078368   \n",
       "3  MULTIPOLYGON (((-73.96113466505085 40.57743931...  NaN  3245111   \n",
       "4  MULTIPOLYGON (((-73.75421559146166 40.75591276...  NaN  4161096   \n",
       "\n",
       "   CNSTRCT_YR              LSTMODDATE   LSTSTATYPE  DOITT_ID  HEIGHTROOF  \\\n",
       "0      1925.0  08/22/2017 12:00:00 AM  Constructed     96807   29.749853   \n",
       "1      1965.0  08/22/2017 12:00:00 AM  Constructed    326368   22.630000   \n",
       "2      1970.0  08/22/2017 12:00:00 AM  Constructed    746627   35.760000   \n",
       "3      1928.0  08/22/2017 12:00:00 AM  Constructed    786626   37.500000   \n",
       "4      1950.0  08/22/2017 12:00:00 AM  Constructed    746409   18.015113   \n",
       "\n",
       "   FEAT_CODE  GROUNDELEV  SHAPE_AREA  SHAPE_LEN      BASE_BBL    MPLUTO_BBL  \\\n",
       "0     2100.0        40.0           0          0  3.065220e+09  3.065220e+09   \n",
       "1     2100.0        39.0           0          0  5.012640e+09  5.012640e+09   \n",
       "2     2100.0        51.0           0          0  5.060190e+09  5.060190e+09   \n",
       "3     2100.0         6.0           0          0  3.086910e+09  3.086910e+09   \n",
       "4     2100.0        93.0           0          0  4.075020e+09  4.075020e+09   \n",
       "\n",
       "   GEOMSOURCE  \n",
       "0  Photogramm  \n",
       "1  Photogramm  \n",
       "2  Photogramm  \n",
       "3  Photogramm  \n",
       "4  Photogramm  "
      ]
     },
     "execution_count": 64,
     "metadata": {},
     "output_type": "execute_result"
    }
   ],
   "source": [
    "# saving the median of our 'CNSTRCT_YR' as the name 'median'\n",
    "median = building_df_fillna['CNSTRCT_YR'].median()\n",
    "\n",
    "# filling na values in our'CNSTRCT_YR' column with the column's median value\n",
    "building_df_fillna[\"CNSTRCT_YR\"] = building_df_fillna[\"CNSTRCT_YR\"].fillna(value=median)\n",
    "building_df_fillna.head()"
   ]
  },
  {
   "cell_type": "code",
   "execution_count": 65,
   "metadata": {},
   "outputs": [
    {
     "name": "stdout",
     "output_type": "stream",
     "text": [
      "number of nulls for CNSTRCT_YR: 0\n"
     ]
    }
   ],
   "source": [
    "counts = building_df_fillna['CNSTRCT_YR'].isnull().sum()\n",
    "print('number of nulls for CNSTRCT_YR: {:,}'.format(counts))"
   ]
  },
  {
   "cell_type": "markdown",
   "metadata": {},
   "source": [
    "# 5. Analysis"
   ]
  },
  {
   "cell_type": "markdown",
   "metadata": {},
   "source": [
    "## 5.1 Timeseries of Year Built"
   ]
  },
  {
   "cell_type": "code",
   "execution_count": 66,
   "metadata": {},
   "outputs": [
    {
     "data": {
      "text/html": [
       "<div>\n",
       "<style scoped>\n",
       "    .dataframe tbody tr th:only-of-type {\n",
       "        vertical-align: middle;\n",
       "    }\n",
       "\n",
       "    .dataframe tbody tr th {\n",
       "        vertical-align: top;\n",
       "    }\n",
       "\n",
       "    .dataframe thead th {\n",
       "        text-align: right;\n",
       "    }\n",
       "</style>\n",
       "<table border=\"1\" class=\"dataframe\">\n",
       "  <thead>\n",
       "    <tr style=\"text-align: right;\">\n",
       "      <th></th>\n",
       "      <th>count</th>\n",
       "    </tr>\n",
       "    <tr>\n",
       "      <th>CNSTRCT_YR</th>\n",
       "      <th></th>\n",
       "    </tr>\n",
       "  </thead>\n",
       "  <tbody>\n",
       "    <tr>\n",
       "      <th>1652</th>\n",
       "      <td>1</td>\n",
       "    </tr>\n",
       "    <tr>\n",
       "      <th>1661</th>\n",
       "      <td>2</td>\n",
       "    </tr>\n",
       "    <tr>\n",
       "      <th>1680</th>\n",
       "      <td>1</td>\n",
       "    </tr>\n",
       "    <tr>\n",
       "      <th>1690</th>\n",
       "      <td>1</td>\n",
       "    </tr>\n",
       "    <tr>\n",
       "      <th>1694</th>\n",
       "      <td>1</td>\n",
       "    </tr>\n",
       "  </tbody>\n",
       "</table>\n",
       "</div>"
      ],
      "text/plain": [
       "            count\n",
       "CNSTRCT_YR       \n",
       "1652            1\n",
       "1661            2\n",
       "1680            1\n",
       "1690            1\n",
       "1694            1"
      ]
     },
     "execution_count": 66,
     "metadata": {},
     "output_type": "execute_result"
    }
   ],
   "source": [
    "# returning number of buildings by year as 'g'\n",
    "g = building_df_dropna.groupby('CNSTRCT_YR')['DOITT_ID'].count().reset_index()\n",
    "g = g.rename({'DOITT_ID': 'count'}, axis=1)\n",
    "\n",
    "g = g.set_index('CNSTRCT_YR', drop=True)\n",
    "g.index = g.index.astype('int64')\n",
    "\n",
    "g.head()"
   ]
  },
  {
   "cell_type": "code",
   "execution_count": 67,
   "metadata": {},
   "outputs": [
    {
     "data": {
      "image/png": "[encoded data removed]",
      "text/plain": [
       "<Figure size 576x432 with 1 Axes>"
      ]
     },
     "metadata": {
      "needs_background": "light"
     },
     "output_type": "display_data"
    }
   ],
   "source": [
    "fig, ax = plt.subplots(figsize=(8,6))\n",
    "\n",
    "# plotting line chart of number of buildings by 'CNSTRCT_YR'\n",
    "ax.plot(g['count'], linewidth=2)\n",
    "\n",
    "# formatting Y axis with comma\n",
    "ax.get_yaxis().set_major_formatter(\n",
    "    matplotlib.ticker.FuncFormatter(lambda x, p: format(int(x), ',')))\n",
    "\n",
    "plt.xlabel('Construction Year', fontsize=12)\n",
    "plt.ylabel('Number of Buildings', fontsize=12)\n",
    "plt.title('Number of Buildings by Construction Year in NYC', fontsize=12)\n",
    "\n",
    "plt.tight_layout()"
   ]
  },
  {
   "cell_type": "code",
   "execution_count": 68,
   "metadata": {},
   "outputs": [
    {
     "data": {
      "text/html": [
       "<div>\n",
       "<style scoped>\n",
       "    .dataframe tbody tr th:only-of-type {\n",
       "        vertical-align: middle;\n",
       "    }\n",
       "\n",
       "    .dataframe tbody tr th {\n",
       "        vertical-align: top;\n",
       "    }\n",
       "\n",
       "    .dataframe thead th {\n",
       "        text-align: right;\n",
       "    }\n",
       "</style>\n",
       "<table border=\"1\" class=\"dataframe\">\n",
       "  <thead>\n",
       "    <tr style=\"text-align: right;\">\n",
       "      <th></th>\n",
       "      <th>count</th>\n",
       "    </tr>\n",
       "    <tr>\n",
       "      <th>CNSTRCT_YR</th>\n",
       "      <th></th>\n",
       "    </tr>\n",
       "  </thead>\n",
       "  <tbody>\n",
       "    <tr>\n",
       "      <th>1900</th>\n",
       "      <td>7630</td>\n",
       "    </tr>\n",
       "    <tr>\n",
       "      <th>1901</th>\n",
       "      <td>26592</td>\n",
       "    </tr>\n",
       "    <tr>\n",
       "      <th>1902</th>\n",
       "      <td>502</td>\n",
       "    </tr>\n",
       "    <tr>\n",
       "      <th>1903</th>\n",
       "      <td>529</td>\n",
       "    </tr>\n",
       "    <tr>\n",
       "      <th>1904</th>\n",
       "      <td>579</td>\n",
       "    </tr>\n",
       "  </tbody>\n",
       "</table>\n",
       "</div>"
      ],
      "text/plain": [
       "            count\n",
       "CNSTRCT_YR       \n",
       "1900         7630\n",
       "1901        26592\n",
       "1902          502\n",
       "1903          529\n",
       "1904          579"
      ]
     },
     "execution_count": 68,
     "metadata": {},
     "output_type": "execute_result"
    }
   ],
   "source": [
    "# previewing number of buildings constructed after 1900\n",
    "g.loc[g.index >= 1900].head()"
   ]
  },
  {
   "cell_type": "code",
   "execution_count": 69,
   "metadata": {},
   "outputs": [
    {
     "data": {
      "image/png": "[encoded data removed]",
      "text/plain": [
       "<Figure size 576x432 with 1 Axes>"
      ]
     },
     "metadata": {
      "needs_background": "light"
     },
     "output_type": "display_data"
    }
   ],
   "source": [
    "fig, ax = plt.subplots(figsize=(8,6))\n",
    "\n",
    "# plotting line chart of number of buildings by 'CNSTRCT_YR' built after 1900\n",
    "ax.plot(g.loc[g.index >= 1900], linewidth=2)\n",
    "\n",
    "# formatting Y axis with comma\n",
    "ax.get_yaxis().set_major_formatter(\n",
    "    matplotlib.ticker.FuncFormatter(lambda x, p: format(int(x), ',')))\n",
    "\n",
    "plt.xlabel('Construction Year', fontsize=12)\n",
    "plt.ylabel('Number of Buildings', fontsize=12)\n",
    "plt.title('Number of Buildings by Construction Year Built After 1900 in NYC', fontsize=12)\n",
    "\n",
    "plt.tight_layout()"
   ]
  },
  {
   "cell_type": "code",
   "execution_count": 70,
   "metadata": {},
   "outputs": [
    {
     "data": {
      "text/html": [
       "<div>\n",
       "<style scoped>\n",
       "    .dataframe tbody tr th:only-of-type {\n",
       "        vertical-align: middle;\n",
       "    }\n",
       "\n",
       "    .dataframe tbody tr th {\n",
       "        vertical-align: top;\n",
       "    }\n",
       "\n",
       "    .dataframe thead th {\n",
       "        text-align: right;\n",
       "    }\n",
       "</style>\n",
       "<table border=\"1\" class=\"dataframe\">\n",
       "  <thead>\n",
       "    <tr style=\"text-align: right;\">\n",
       "      <th></th>\n",
       "      <th>count</th>\n",
       "    </tr>\n",
       "    <tr>\n",
       "      <th>CNSTRCT_YR</th>\n",
       "      <th></th>\n",
       "    </tr>\n",
       "  </thead>\n",
       "  <tbody>\n",
       "    <tr>\n",
       "      <th>1652</th>\n",
       "      <td>1</td>\n",
       "    </tr>\n",
       "    <tr>\n",
       "      <th>1661</th>\n",
       "      <td>2</td>\n",
       "    </tr>\n",
       "    <tr>\n",
       "      <th>1680</th>\n",
       "      <td>1</td>\n",
       "    </tr>\n",
       "    <tr>\n",
       "      <th>1690</th>\n",
       "      <td>1</td>\n",
       "    </tr>\n",
       "    <tr>\n",
       "      <th>1694</th>\n",
       "      <td>1</td>\n",
       "    </tr>\n",
       "  </tbody>\n",
       "</table>\n",
       "</div>"
      ],
      "text/plain": [
       "            count\n",
       "CNSTRCT_YR       \n",
       "1652            1\n",
       "1661            2\n",
       "1680            1\n",
       "1690            1\n",
       "1694            1"
      ]
     },
     "execution_count": 70,
     "metadata": {},
     "output_type": "execute_result"
    }
   ],
   "source": [
    "# previewing first five rows\n",
    "g.head()"
   ]
  },
  {
   "cell_type": "code",
   "execution_count": 71,
   "metadata": {},
   "outputs": [
    {
     "data": {
      "text/html": [
       "<div>\n",
       "<style scoped>\n",
       "    .dataframe tbody tr th:only-of-type {\n",
       "        vertical-align: middle;\n",
       "    }\n",
       "\n",
       "    .dataframe tbody tr th {\n",
       "        vertical-align: top;\n",
       "    }\n",
       "\n",
       "    .dataframe thead th {\n",
       "        text-align: right;\n",
       "    }\n",
       "</style>\n",
       "<table border=\"1\" class=\"dataframe\">\n",
       "  <thead>\n",
       "    <tr style=\"text-align: right;\">\n",
       "      <th></th>\n",
       "      <th>count</th>\n",
       "      <th>cumsum</th>\n",
       "    </tr>\n",
       "    <tr>\n",
       "      <th>CNSTRCT_YR</th>\n",
       "      <th></th>\n",
       "      <th></th>\n",
       "    </tr>\n",
       "  </thead>\n",
       "  <tbody>\n",
       "    <tr>\n",
       "      <th>1652</th>\n",
       "      <td>1</td>\n",
       "      <td>1</td>\n",
       "    </tr>\n",
       "    <tr>\n",
       "      <th>1661</th>\n",
       "      <td>2</td>\n",
       "      <td>3</td>\n",
       "    </tr>\n",
       "    <tr>\n",
       "      <th>1680</th>\n",
       "      <td>1</td>\n",
       "      <td>4</td>\n",
       "    </tr>\n",
       "    <tr>\n",
       "      <th>1690</th>\n",
       "      <td>1</td>\n",
       "      <td>5</td>\n",
       "    </tr>\n",
       "    <tr>\n",
       "      <th>1694</th>\n",
       "      <td>1</td>\n",
       "      <td>6</td>\n",
       "    </tr>\n",
       "  </tbody>\n",
       "</table>\n",
       "</div>"
      ],
      "text/plain": [
       "            count  cumsum\n",
       "CNSTRCT_YR               \n",
       "1652            1       1\n",
       "1661            2       3\n",
       "1680            1       4\n",
       "1690            1       5\n",
       "1694            1       6"
      ]
     },
     "execution_count": 71,
     "metadata": {},
     "output_type": "execute_result"
    }
   ],
   "source": [
    "# calculating the cumulative sum of buildings by 'CNSTRCT_YR'\n",
    "g['cumsum'] = g['count'].cumsum()\n",
    "\n",
    "# previewing first five rows\n",
    "g.head()"
   ]
  },
  {
   "cell_type": "code",
   "execution_count": 72,
   "metadata": {},
   "outputs": [
    {
     "data": {
      "image/png": "[encoded data removed]",
      "text/plain": [
       "<Figure size 576x432 with 1 Axes>"
      ]
     },
     "metadata": {
      "needs_background": "light"
     },
     "output_type": "display_data"
    }
   ],
   "source": [
    "fig, ax = plt.subplots(figsize=(8,6))\n",
    "\n",
    "# plotting line chart of cumulative number of buildings by 'CNSTRCT_YR'\n",
    "ax.plot(g['cumsum'], linewidth=2)\n",
    "\n",
    "# formatting Y axis with comma\n",
    "ax.get_yaxis().set_major_formatter(\n",
    "    matplotlib.ticker.FuncFormatter(lambda x, p: format(int(x), ',')))\n",
    "\n",
    "plt.xlabel('Construction Year', fontsize=12)\n",
    "plt.ylabel('Cumulative Number of Buildings', fontsize=12)\n",
    "plt.title('Cumulative Number of Buildings by Construction Year in NYC', fontsize=12)\n",
    "\n",
    "plt.tight_layout()"
   ]
  },
  {
   "cell_type": "code",
   "execution_count": 73,
   "metadata": {},
   "outputs": [
    {
     "data": {
      "image/png": "[encoded data removed]",
      "text/plain": [
       "<Figure size 576x432 with 1 Axes>"
      ]
     },
     "metadata": {
      "needs_background": "light"
     },
     "output_type": "display_data"
    }
   ],
   "source": [
    "fig, ax = plt.subplots(figsize=(8,6))\n",
    "\n",
    "# plotting line chart of cumulative number of buildings by 'CNSTRCT_YR' built after 1900\n",
    "ax.plot(g[g.index >= 1900]['cumsum'], linewidth=2)\n",
    "\n",
    "# formatting Y axis with comma\n",
    "ax.get_yaxis().set_major_formatter(\n",
    "    matplotlib.ticker.FuncFormatter(lambda x, p: format(int(x), ',')))\n",
    "\n",
    "plt.xlabel('Construction Year', fontsize=12)\n",
    "plt.ylabel('Cumulative Number of Buildings', fontsize=12)\n",
    "plt.title('Cumulative Number of Buildings by Construction Year Built After 1900 in NYC', fontsize=12)\n",
    "\n",
    "plt.tight_layout()"
   ]
  },
  {
   "cell_type": "markdown",
   "metadata": {},
   "source": [
    "## 5.2 Attempting to Identify the Oldest Building in the Dataset"
   ]
  },
  {
   "cell_type": "code",
   "execution_count": 74,
   "metadata": {
    "scrolled": true
   },
   "outputs": [
    {
     "data": {
      "text/html": [
       "<div>\n",
       "<style scoped>\n",
       "    .dataframe tbody tr th:only-of-type {\n",
       "        vertical-align: middle;\n",
       "    }\n",
       "\n",
       "    .dataframe tbody tr th {\n",
       "        vertical-align: top;\n",
       "    }\n",
       "\n",
       "    .dataframe thead th {\n",
       "        text-align: right;\n",
       "    }\n",
       "</style>\n",
       "<table border=\"1\" class=\"dataframe\">\n",
       "  <thead>\n",
       "    <tr style=\"text-align: right;\">\n",
       "      <th></th>\n",
       "      <th>the_geom</th>\n",
       "      <th>NAME</th>\n",
       "      <th>BIN</th>\n",
       "      <th>CNSTRCT_YR</th>\n",
       "      <th>LSTMODDATE</th>\n",
       "      <th>LSTSTATYPE</th>\n",
       "      <th>DOITT_ID</th>\n",
       "      <th>HEIGHTROOF</th>\n",
       "      <th>FEAT_CODE</th>\n",
       "      <th>GROUNDELEV</th>\n",
       "      <th>SHAPE_AREA</th>\n",
       "      <th>SHAPE_LEN</th>\n",
       "      <th>BASE_BBL</th>\n",
       "      <th>MPLUTO_BBL</th>\n",
       "      <th>GEOMSOURCE</th>\n",
       "    </tr>\n",
       "  </thead>\n",
       "  <tbody>\n",
       "    <tr>\n",
       "      <th>1044341</th>\n",
       "      <td>MULTIPOLYGON (((-73.92083460429942 40.64439765...</td>\n",
       "      <td>Pieter Claesen Wyckoff House</td>\n",
       "      <td>3221967</td>\n",
       "      <td>1652.0</td>\n",
       "      <td>01/28/2020 12:00:00 AM</td>\n",
       "      <td>Constructed</td>\n",
       "      <td>550741</td>\n",
       "      <td>24.54</td>\n",
       "      <td>2100.0</td>\n",
       "      <td>14.0</td>\n",
       "      <td>0</td>\n",
       "      <td>0</td>\n",
       "      <td>3.079170e+09</td>\n",
       "      <td>3.079170e+09</td>\n",
       "      <td>Photogramm</td>\n",
       "    </tr>\n",
       "    <tr>\n",
       "      <th>776301</th>\n",
       "      <td>MULTIPOLYGON (((-73.8247828135812 40.762948467...</td>\n",
       "      <td>Bowne House</td>\n",
       "      <td>4113403</td>\n",
       "      <td>1661.0</td>\n",
       "      <td>08/22/2017 12:00:00 AM</td>\n",
       "      <td>Constructed</td>\n",
       "      <td>776399</td>\n",
       "      <td>26.12</td>\n",
       "      <td>2100.0</td>\n",
       "      <td>64.0</td>\n",
       "      <td>0</td>\n",
       "      <td>0</td>\n",
       "      <td>4.050130e+09</td>\n",
       "      <td>4.050130e+09</td>\n",
       "      <td>Photogramm</td>\n",
       "    </tr>\n",
       "    <tr>\n",
       "      <th>57665</th>\n",
       "      <td>MULTIPOLYGON (((-74.25311647359251 40.50309522...</td>\n",
       "      <td>Conference House</td>\n",
       "      <td>5087656</td>\n",
       "      <td>1680.0</td>\n",
       "      <td>04/13/2020 12:00:00 AM</td>\n",
       "      <td>Constructed</td>\n",
       "      <td>702698</td>\n",
       "      <td>38.64</td>\n",
       "      <td>2100.0</td>\n",
       "      <td>38.0</td>\n",
       "      <td>0</td>\n",
       "      <td>0</td>\n",
       "      <td>5.078570e+09</td>\n",
       "      <td>5.078570e+09</td>\n",
       "      <td>Photogramm</td>\n",
       "    </tr>\n",
       "    <tr>\n",
       "      <th>570083</th>\n",
       "      <td>MULTIPOLYGON (((-74.06293248238293 40.61512359...</td>\n",
       "      <td>Alice Austen House Museum</td>\n",
       "      <td>5042188</td>\n",
       "      <td>1690.0</td>\n",
       "      <td>04/13/2020 12:00:00 AM</td>\n",
       "      <td>Alteration</td>\n",
       "      <td>806241</td>\n",
       "      <td>22.26</td>\n",
       "      <td>2100.0</td>\n",
       "      <td>21.0</td>\n",
       "      <td>0</td>\n",
       "      <td>0</td>\n",
       "      <td>5.028300e+09</td>\n",
       "      <td>5.028300e+09</td>\n",
       "      <td>Photogramm</td>\n",
       "    </tr>\n",
       "    <tr>\n",
       "      <th>550647</th>\n",
       "      <td>MULTIPOLYGON (((-74.01121069434295 40.70334382...</td>\n",
       "      <td>Fraunces Tavern</td>\n",
       "      <td>1078965</td>\n",
       "      <td>1719.0</td>\n",
       "      <td>01/28/2020 12:00:00 AM</td>\n",
       "      <td>Constructed</td>\n",
       "      <td>299639</td>\n",
       "      <td>47.83</td>\n",
       "      <td>2100.0</td>\n",
       "      <td>7.0</td>\n",
       "      <td>0</td>\n",
       "      <td>0</td>\n",
       "      <td>1.000070e+09</td>\n",
       "      <td>1.000070e+09</td>\n",
       "      <td>Photogramm</td>\n",
       "    </tr>\n",
       "  </tbody>\n",
       "</table>\n",
       "</div>"
      ],
      "text/plain": [
       "                                                  the_geom  \\\n",
       "1044341  MULTIPOLYGON (((-73.92083460429942 40.64439765...   \n",
       "776301   MULTIPOLYGON (((-73.8247828135812 40.762948467...   \n",
       "57665    MULTIPOLYGON (((-74.25311647359251 40.50309522...   \n",
       "570083   MULTIPOLYGON (((-74.06293248238293 40.61512359...   \n",
       "550647   MULTIPOLYGON (((-74.01121069434295 40.70334382...   \n",
       "\n",
       "                                 NAME      BIN  CNSTRCT_YR  \\\n",
       "1044341  Pieter Claesen Wyckoff House  3221967      1652.0   \n",
       "776301                    Bowne House  4113403      1661.0   \n",
       "57665                Conference House  5087656      1680.0   \n",
       "570083      Alice Austen House Museum  5042188      1690.0   \n",
       "550647                Fraunces Tavern  1078965      1719.0   \n",
       "\n",
       "                     LSTMODDATE   LSTSTATYPE  DOITT_ID  HEIGHTROOF  FEAT_CODE  \\\n",
       "1044341  01/28/2020 12:00:00 AM  Constructed    550741       24.54     2100.0   \n",
       "776301   08/22/2017 12:00:00 AM  Constructed    776399       26.12     2100.0   \n",
       "57665    04/13/2020 12:00:00 AM  Constructed    702698       38.64     2100.0   \n",
       "570083   04/13/2020 12:00:00 AM   Alteration    806241       22.26     2100.0   \n",
       "550647   01/28/2020 12:00:00 AM  Constructed    299639       47.83     2100.0   \n",
       "\n",
       "         GROUNDELEV  SHAPE_AREA  SHAPE_LEN      BASE_BBL    MPLUTO_BBL  \\\n",
       "1044341        14.0           0          0  3.079170e+09  3.079170e+09   \n",
       "776301         64.0           0          0  4.050130e+09  4.050130e+09   \n",
       "57665          38.0           0          0  5.078570e+09  5.078570e+09   \n",
       "570083         21.0           0          0  5.028300e+09  5.028300e+09   \n",
       "550647          7.0           0          0  1.000070e+09  1.000070e+09   \n",
       "\n",
       "         GEOMSOURCE  \n",
       "1044341  Photogramm  \n",
       "776301   Photogramm  \n",
       "57665    Photogramm  \n",
       "570083   Photogramm  \n",
       "550647   Photogramm  "
      ]
     },
     "execution_count": 74,
     "metadata": {},
     "output_type": "execute_result"
    }
   ],
   "source": [
    "# sorting by the 'CNSTRCT_YR' in ascending order and \n",
    "# dropping records that don't have a building name (i.e. NAME)\n",
    "\n",
    "building_df.sort_values(by='CNSTRCT_YR').dropna(subset=['NAME']).head()"
   ]
  },
  {
   "cell_type": "code",
   "execution_count": 75,
   "metadata": {},
   "outputs": [
    {
     "data": {
      "text/html": [
       "<div>\n",
       "<style scoped>\n",
       "    .dataframe tbody tr th:only-of-type {\n",
       "        vertical-align: middle;\n",
       "    }\n",
       "\n",
       "    .dataframe tbody tr th {\n",
       "        vertical-align: top;\n",
       "    }\n",
       "\n",
       "    .dataframe thead th {\n",
       "        text-align: right;\n",
       "    }\n",
       "</style>\n",
       "<table border=\"1\" class=\"dataframe\">\n",
       "  <thead>\n",
       "    <tr style=\"text-align: right;\">\n",
       "      <th></th>\n",
       "      <th>the_geom</th>\n",
       "      <th>NAME</th>\n",
       "      <th>BIN</th>\n",
       "      <th>CNSTRCT_YR</th>\n",
       "      <th>LSTMODDATE</th>\n",
       "      <th>LSTSTATYPE</th>\n",
       "      <th>DOITT_ID</th>\n",
       "      <th>HEIGHTROOF</th>\n",
       "      <th>FEAT_CODE</th>\n",
       "      <th>GROUNDELEV</th>\n",
       "      <th>SHAPE_AREA</th>\n",
       "      <th>SHAPE_LEN</th>\n",
       "      <th>BASE_BBL</th>\n",
       "      <th>MPLUTO_BBL</th>\n",
       "      <th>GEOMSOURCE</th>\n",
       "    </tr>\n",
       "  </thead>\n",
       "  <tbody>\n",
       "    <tr>\n",
       "      <th>1044341</th>\n",
       "      <td>MULTIPOLYGON (((-73.92083460429942 40.64439765...</td>\n",
       "      <td>Pieter Claesen Wyckoff House</td>\n",
       "      <td>3221967</td>\n",
       "      <td>1652.0</td>\n",
       "      <td>01/28/2020 12:00:00 AM</td>\n",
       "      <td>Constructed</td>\n",
       "      <td>550741</td>\n",
       "      <td>24.54</td>\n",
       "      <td>2100.0</td>\n",
       "      <td>14.0</td>\n",
       "      <td>0</td>\n",
       "      <td>0</td>\n",
       "      <td>3.079170e+09</td>\n",
       "      <td>3.079170e+09</td>\n",
       "      <td>Photogramm</td>\n",
       "    </tr>\n",
       "  </tbody>\n",
       "</table>\n",
       "</div>"
      ],
      "text/plain": [
       "                                                  the_geom  \\\n",
       "1044341  MULTIPOLYGON (((-73.92083460429942 40.64439765...   \n",
       "\n",
       "                                 NAME      BIN  CNSTRCT_YR  \\\n",
       "1044341  Pieter Claesen Wyckoff House  3221967      1652.0   \n",
       "\n",
       "                     LSTMODDATE   LSTSTATYPE  DOITT_ID  HEIGHTROOF  FEAT_CODE  \\\n",
       "1044341  01/28/2020 12:00:00 AM  Constructed    550741       24.54     2100.0   \n",
       "\n",
       "         GROUNDELEV  SHAPE_AREA  SHAPE_LEN      BASE_BBL    MPLUTO_BBL  \\\n",
       "1044341        14.0           0          0  3.079170e+09  3.079170e+09   \n",
       "\n",
       "         GEOMSOURCE  \n",
       "1044341  Photogramm  "
      ]
     },
     "execution_count": 75,
     "metadata": {},
     "output_type": "execute_result"
    }
   ],
   "source": [
    "# identifying the oldest building with a building name in this dataset and\n",
    "oldest = building_df.sort_values(by='CNSTRCT_YR').dropna(subset=['NAME']).head(1)\n",
    "\n",
    "oldest"
   ]
  },
  {
   "cell_type": "markdown",
   "metadata": {},
   "source": [
    "### We will use the Pieter Claesen Wyckoff House as the oldest building in this dataset"
   ]
  },
  {
   "cell_type": "markdown",
   "metadata": {},
   "source": [
    "**Screenshot of Pieter Claesen Wyckoff House from Wikipedia:**\n",
    "\n",
    "https://en.wikipedia.org/wiki/Wyckoff_House"
   ]
  },
  {
   "cell_type": "markdown",
   "metadata": {},
   "source": [
    "![Pieter-Claesen-Wyckoff-House](images/Pieter-Claesen-Wyckoff-House.png)"
   ]
  },
  {
   "cell_type": "markdown",
   "metadata": {},
   "source": [
    "# 6. Conclusion"
   ]
  },
  {
   "cell_type": "markdown",
   "metadata": {},
   "source": [
    "In this notebook, we reviewed various ways to inspect, clean, wrangle, and detect outliers in your data.  Specifically, we focused on ways to inspect the shape (number of rows, columns) of your data, fill in or replace incorrect values with the median, and detect outliers with box plots. This step is crucial if you are interested in modeling or predicting future values. In Part III, we will focus on data visualization."
   ]
  },
  {
   "cell_type": "code",
   "execution_count": null,
   "metadata": {},
   "outputs": [],
   "source": []
  }
 ],
 "metadata": {
  "kernelspec": {
   "display_name": "Python 3 (ipykernel)",
   "language": "python",
   "name": "python3"
  },
  "language_info": {
   "codemirror_mode": {
    "name": "ipython",
    "version": 3
   },
   "file_extension": ".py",
   "mimetype": "text/x-python",
   "name": "python",
   "nbconvert_exporter": "python",
   "pygments_lexer": "ipython3",
   "version": "3.8.13"
  }
 },
 "nbformat": 4,
 "nbformat_minor": 2
}
